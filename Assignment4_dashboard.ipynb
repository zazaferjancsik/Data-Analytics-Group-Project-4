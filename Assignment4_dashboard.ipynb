{
 "cells": [
  {
   "cell_type": "markdown",
   "id": "cc60c2bd-1e73-4a84-9d9b-e345baa1be73",
   "metadata": {},
   "source": [
    "# Import data"
   ]
  },
  {
   "cell_type": "code",
   "execution_count": 1,
   "id": "0bdcb0c1-56a2-456b-a8f7-fab66d5abf60",
   "metadata": {},
   "outputs": [],
   "source": [
    "import pandas as pd\n",
    "data = \"airlinedelaycauses_DelayedFlights.csv\"\n",
    "data = pd.read_csv(data)\n",
    "airline_df = pd.DataFrame(data = data)"
   ]
  },
  {
   "cell_type": "markdown",
   "id": "d8a5599a-924c-4c1c-83ce-47dccd22bb0a",
   "metadata": {},
   "source": [
    "# Preprocess"
   ]
  },
  {
   "cell_type": "code",
   "execution_count": 2,
   "id": "7d73c970-8d0f-46a3-9ee0-33aafaabe259",
   "metadata": {},
   "outputs": [
    {
     "data": {
      "text/plain": [
       "Unnamed: 0           0\n",
       "Year                 0\n",
       "Month                0\n",
       "DayofMonth           0\n",
       "DayOfWeek            0\n",
       "DepTime              0\n",
       "CRSDepTime           0\n",
       "ArrTime              0\n",
       "CRSArrTime           0\n",
       "UniqueCarrier        0\n",
       "FlightNum            0\n",
       "TailNum              0\n",
       "ActualElapsedTime    0\n",
       "CRSElapsedTime       0\n",
       "AirTime              0\n",
       "ArrDelay             0\n",
       "DepDelay             0\n",
       "Origin               0\n",
       "Dest                 0\n",
       "Distance             0\n",
       "TaxiIn               0\n",
       "TaxiOut              0\n",
       "Cancelled            0\n",
       "CancellationCode     0\n",
       "Diverted             0\n",
       "CarrierDelay         0\n",
       "WeatherDelay         0\n",
       "NASDelay             0\n",
       "SecurityDelay        0\n",
       "LateAircraftDelay    0\n",
       "dtype: int64"
      ]
     },
     "execution_count": 2,
     "metadata": {},
     "output_type": "execute_result"
    }
   ],
   "source": [
    "# drop the row if there is missing data \n",
    "airline_df = airline_df.dropna(axis=0, how='any')\n",
    "airline_df.isnull().sum()"
   ]
  },
  {
   "cell_type": "code",
   "execution_count": 3,
   "id": "7dcc6220-0668-4724-9ac7-fe061f3c52cd",
   "metadata": {},
   "outputs": [
    {
     "name": "stdout",
     "output_type": "stream",
     "text": [
      "ignore CancellationCode column\n",
      "ignore  Cancelled column\n",
      "ignore  Diverted column\n"
     ]
    }
   ],
   "source": [
    "# check if the index of the column are the same throughout the dataset\n",
    "# if so, drop or simply ignore the column because there are not meaningful to visualize\n",
    "if (  len(airline_df[\"CancellationCode\"] == \"N\") == len(airline_df)):  print (\"ignore CancellationCode column\")\n",
    "if (  len(airline_df[\"Cancelled\"] == 0)  == len(airline_df)):  print (\"ignore  Cancelled column\")\n",
    "if (  len(airline_df[\"Diverted\"] == 0) == len(airline_df)):  print (\"ignore  Diverted column\")"
   ]
  },
  {
   "cell_type": "code",
   "execution_count": 4,
   "id": "8b4f3f72-d458-4b9c-aabe-bf20d1866c32",
   "metadata": {},
   "outputs": [
    {
     "name": "stdout",
     "output_type": "stream",
     "text": [
      "The dataset is for 2008 only, ignore  Year column\n"
     ]
    }
   ],
   "source": [
    "if (  len(airline_df[\"Year\"] == 2008) == len(airline_df)):  print (\"The dataset is for 2008 only, ignore  Year column\")"
   ]
  },
  {
   "cell_type": "code",
   "execution_count": 5,
   "id": "4f6c8f64-bf1f-4020-b1b8-17d86d7c7c9e",
   "metadata": {},
   "outputs": [
    {
     "name": "stdout",
     "output_type": "stream",
     "text": [
      "<class 'pandas.core.frame.DataFrame'>\n",
      "Index: 1247486 entries, 3 to 1936755\n",
      "Data columns (total 26 columns):\n",
      " #   Column             Non-Null Count    Dtype  \n",
      "---  ------             --------------    -----  \n",
      " 0   Unnamed: 0         1247486 non-null  int64  \n",
      " 1   Month              1247486 non-null  int64  \n",
      " 2   DayofMonth         1247486 non-null  int64  \n",
      " 3   DayOfWeek          1247486 non-null  int64  \n",
      " 4   DepTime            1247486 non-null  float64\n",
      " 5   CRSDepTime         1247486 non-null  int64  \n",
      " 6   ArrTime            1247486 non-null  float64\n",
      " 7   CRSArrTime         1247486 non-null  int64  \n",
      " 8   UniqueCarrier      1247486 non-null  object \n",
      " 9   FlightNum          1247486 non-null  int64  \n",
      " 10  TailNum            1247486 non-null  object \n",
      " 11  ActualElapsedTime  1247486 non-null  float64\n",
      " 12  CRSElapsedTime     1247486 non-null  float64\n",
      " 13  AirTime            1247486 non-null  float64\n",
      " 14  ArrDelay           1247486 non-null  float64\n",
      " 15  DepDelay           1247486 non-null  float64\n",
      " 16  Origin             1247486 non-null  object \n",
      " 17  Dest               1247486 non-null  object \n",
      " 18  Distance           1247486 non-null  int64  \n",
      " 19  TaxiIn             1247486 non-null  float64\n",
      " 20  TaxiOut            1247486 non-null  float64\n",
      " 21  CarrierDelay       1247486 non-null  float64\n",
      " 22  WeatherDelay       1247486 non-null  float64\n",
      " 23  NASDelay           1247486 non-null  float64\n",
      " 24  SecurityDelay      1247486 non-null  float64\n",
      " 25  LateAircraftDelay  1247486 non-null  float64\n",
      "dtypes: float64(14), int64(8), object(4)\n",
      "memory usage: 257.0+ MB\n"
     ]
    }
   ],
   "source": [
    "# drop the columns\n",
    "airline_df = airline_df.drop('CancellationCode', axis=1) \n",
    "airline_df = airline_df.drop(\"Cancelled\", axis=1) \n",
    "airline_df = airline_df.drop(\"Diverted\", axis=1) \n",
    "airline_df = airline_df.drop(\"Year\", axis=1) \n",
    "airline_df.info()"
   ]
  },
  {
   "cell_type": "code",
   "execution_count": 6,
   "id": "3ac35b4a-0173-4254-a5ff-a284125227e1",
   "metadata": {},
   "outputs": [
    {
     "data": {
      "text/plain": [
       "array(['WN', 'XE', 'YV', 'OH', 'OO', 'UA', 'US', 'DL', 'EV', 'F9', 'FL',\n",
       "       'HA', 'MQ', 'NW', '9E', 'AA', 'AQ', 'AS', 'B6', 'CO'], dtype=object)"
      ]
     },
     "execution_count": 6,
     "metadata": {},
     "output_type": "execute_result"
    }
   ],
   "source": [
    "## check the unique airline/carrier\n",
    "# airline_df[\"UniqueCarrier\"].unique()"
   ]
  },
  {
   "cell_type": "code",
   "execution_count": 21,
   "id": "a4cc082e-3748-4251-97cf-23f4bd5904ae",
   "metadata": {
    "scrolled": true
   },
   "outputs": [
    {
     "data": {
      "text/plain": [
       "UniqueCarrier\n",
       "WN    203559\n",
       "AA    132257\n",
       "MQ     97555\n",
       "UA     95465\n",
       "OO     88991\n",
       "DL     72252\n",
       "XE     72008\n",
       "US     59508\n",
       "CO     58958\n",
       "EV     56781\n",
       "NW     54744\n",
       "YV     50646\n",
       "FL     46991\n",
       "OH     39292\n",
       "B6     38232\n",
       "9E     35630\n",
       "AS     24012\n",
       "F9     15940\n",
       "HA      4325\n",
       "AQ       340\n",
       "Name: count, dtype: int64"
      ]
     },
     "execution_count": 21,
     "metadata": {},
     "output_type": "execute_result"
    }
   ],
   "source": [
    "## check the count for each airline/carrier\n",
    "# airline_df[\"UniqueCarrier\"].value_counts()"
   ]
  },
  {
   "cell_type": "markdown",
   "id": "e40698c9-7923-4dc2-83e6-297937547311",
   "metadata": {},
   "source": [
    "# Dashboard"
   ]
  },
  {
   "cell_type": "code",
   "execution_count": null,
   "id": "520b99be-e73f-4ce5-9149-c2923e2e4eb9",
   "metadata": {},
   "outputs": [],
   "source": [
    "## first dashboard, Arrival vs Departure Delay of each airline"
   ]
  },
  {
   "cell_type": "code",
   "execution_count": 22,
   "id": "28bd0bae-1e85-4049-b00f-f0211623c970",
   "metadata": {},
   "outputs": [
    {
     "data": {
      "application/vnd.plotly.v1+json": {
       "config": {
        "plotlyServerURL": "https://plot.ly"
       },
       "data": [
        {
         "hovertemplate": "<b>%{hovertext}</b><br><br>UniqueCarrier=9E<br>Average Arrival Delay=%{x}<br>Average Departure Delay=%{y}<br>FlightCount=%{marker.size}<extra></extra>",
         "hovertext": [
          "9E"
         ],
         "legendgroup": "9E",
         "marker": {
          "color": "#636efa",
          "size": [
           35630
          ],
          "sizemode": "area",
          "sizeref": 56.54416666666667,
          "symbol": "circle"
         },
         "mode": "markers",
         "name": "9E",
         "orientation": "v",
         "showlegend": true,
         "type": "scatter",
         "x": [
          66.14729160819535
         ],
         "xaxis": "x",
         "y": [
          62.768930676396295
         ],
         "yaxis": "y"
        },
        {
         "hovertemplate": "<b>%{hovertext}</b><br><br>UniqueCarrier=AA<br>Average Arrival Delay=%{x}<br>Average Departure Delay=%{y}<br>FlightCount=%{marker.size}<extra></extra>",
         "hovertext": [
          "AA"
         ],
         "legendgroup": "AA",
         "marker": {
          "color": "#EF553B",
          "size": [
           132257
          ],
          "sizemode": "area",
          "sizeref": 56.54416666666667,
          "symbol": "circle"
         },
         "mode": "markers",
         "name": "AA",
         "orientation": "v",
         "showlegend": true,
         "type": "scatter",
         "x": [
          65.75745707221546
         ],
         "xaxis": "x",
         "y": [
          61.099722509961666
         ],
         "yaxis": "y"
        },
        {
         "hovertemplate": "<b>%{hovertext}</b><br><br>UniqueCarrier=AQ<br>Average Arrival Delay=%{x}<br>Average Departure Delay=%{y}<br>FlightCount=%{marker.size}<extra></extra>",
         "hovertext": [
          "AQ"
         ],
         "legendgroup": "AQ",
         "marker": {
          "color": "#00cc96",
          "size": [
           340
          ],
          "sizemode": "area",
          "sizeref": 56.54416666666667,
          "symbol": "circle"
         },
         "mode": "markers",
         "name": "AQ",
         "orientation": "v",
         "showlegend": true,
         "type": "scatter",
         "x": [
          42.838235294117645
         ],
         "xaxis": "x",
         "y": [
          43.188235294117646
         ],
         "yaxis": "y"
        },
        {
         "hovertemplate": "<b>%{hovertext}</b><br><br>UniqueCarrier=AS<br>Average Arrival Delay=%{x}<br>Average Departure Delay=%{y}<br>FlightCount=%{marker.size}<extra></extra>",
         "hovertext": [
          "AS"
         ],
         "legendgroup": "AS",
         "marker": {
          "color": "#ab63fa",
          "size": [
           24012
          ],
          "sizemode": "area",
          "sizeref": 56.54416666666667,
          "symbol": "circle"
         },
         "mode": "markers",
         "name": "AS",
         "orientation": "v",
         "showlegend": true,
         "type": "scatter",
         "x": [
          56.65904547726137
         ],
         "xaxis": "x",
         "y": [
          53.93286689988339
         ],
         "yaxis": "y"
        },
        {
         "hovertemplate": "<b>%{hovertext}</b><br><br>UniqueCarrier=B6<br>Average Arrival Delay=%{x}<br>Average Departure Delay=%{y}<br>FlightCount=%{marker.size}<extra></extra>",
         "hovertext": [
          "B6"
         ],
         "legendgroup": "B6",
         "marker": {
          "color": "#FFA15A",
          "size": [
           38232
          ],
          "sizemode": "area",
          "sizeref": 56.54416666666667,
          "symbol": "circle"
         },
         "mode": "markers",
         "name": "B6",
         "orientation": "v",
         "showlegend": true,
         "type": "scatter",
         "x": [
          78.60590604729023
         ],
         "xaxis": "x",
         "y": [
          72.79247750575435
         ],
         "yaxis": "y"
        },
        {
         "hovertemplate": "<b>%{hovertext}</b><br><br>UniqueCarrier=CO<br>Average Arrival Delay=%{x}<br>Average Departure Delay=%{y}<br>FlightCount=%{marker.size}<extra></extra>",
         "hovertext": [
          "CO"
         ],
         "legendgroup": "CO",
         "marker": {
          "color": "#19d3f3",
          "size": [
           58958
          ],
          "sizemode": "area",
          "sizeref": 56.54416666666667,
          "symbol": "circle"
         },
         "mode": "markers",
         "name": "CO",
         "orientation": "v",
         "showlegend": true,
         "type": "scatter",
         "x": [
          67.46407612198514
         ],
         "xaxis": "x",
         "y": [
          63.44663998100343
         ],
         "yaxis": "y"
        },
        {
         "hovertemplate": "<b>%{hovertext}</b><br><br>UniqueCarrier=DL<br>Average Arrival Delay=%{x}<br>Average Departure Delay=%{y}<br>FlightCount=%{marker.size}<extra></extra>",
         "hovertext": [
          "DL"
         ],
         "legendgroup": "DL",
         "marker": {
          "color": "#FF6692",
          "size": [
           72252
          ],
          "sizemode": "area",
          "sizeref": 56.54416666666667,
          "symbol": "circle"
         },
         "mode": "markers",
         "name": "DL",
         "orientation": "v",
         "showlegend": true,
         "type": "scatter",
         "x": [
          60.84350606211593
         ],
         "xaxis": "x",
         "y": [
          54.06509162376128
         ],
         "yaxis": "y"
        },
        {
         "hovertemplate": "<b>%{hovertext}</b><br><br>UniqueCarrier=EV<br>Average Arrival Delay=%{x}<br>Average Departure Delay=%{y}<br>FlightCount=%{marker.size}<extra></extra>",
         "hovertext": [
          "EV"
         ],
         "legendgroup": "EV",
         "marker": {
          "color": "#B6E880",
          "size": [
           56781
          ],
          "sizemode": "area",
          "sizeref": 56.54416666666667,
          "symbol": "circle"
         },
         "mode": "markers",
         "name": "EV",
         "orientation": "v",
         "showlegend": true,
         "type": "scatter",
         "x": [
          66.49136154699636
         ],
         "xaxis": "x",
         "y": [
          63.89802927035452
         ],
         "yaxis": "y"
        },
        {
         "hovertemplate": "<b>%{hovertext}</b><br><br>UniqueCarrier=F9<br>Average Arrival Delay=%{x}<br>Average Departure Delay=%{y}<br>FlightCount=%{marker.size}<extra></extra>",
         "hovertext": [
          "F9"
         ],
         "legendgroup": "F9",
         "marker": {
          "color": "#FF97FF",
          "size": [
           15940
          ],
          "sizemode": "area",
          "sizeref": 56.54416666666667,
          "symbol": "circle"
         },
         "mode": "markers",
         "name": "F9",
         "orientation": "v",
         "showlegend": true,
         "type": "scatter",
         "x": [
          45.25382685069009
         ],
         "xaxis": "x",
         "y": [
          40.13996235884567
         ],
         "yaxis": "y"
        },
        {
         "hovertemplate": "<b>%{hovertext}</b><br><br>UniqueCarrier=FL<br>Average Arrival Delay=%{x}<br>Average Departure Delay=%{y}<br>FlightCount=%{marker.size}<extra></extra>",
         "hovertext": [
          "FL"
         ],
         "legendgroup": "FL",
         "marker": {
          "color": "#FECB52",
          "size": [
           46991
          ],
          "sizemode": "area",
          "sizeref": 56.54416666666667,
          "symbol": "circle"
         },
         "mode": "markers",
         "name": "FL",
         "orientation": "v",
         "showlegend": true,
         "type": "scatter",
         "x": [
          63.59590134281032
         ],
         "xaxis": "x",
         "y": [
          57.97778297971952
         ],
         "yaxis": "y"
        },
        {
         "hovertemplate": "<b>%{hovertext}</b><br><br>UniqueCarrier=HA<br>Average Arrival Delay=%{x}<br>Average Departure Delay=%{y}<br>FlightCount=%{marker.size}<extra></extra>",
         "hovertext": [
          "HA"
         ],
         "legendgroup": "HA",
         "marker": {
          "color": "#636efa",
          "size": [
           4325
          ],
          "sizemode": "area",
          "sizeref": 56.54416666666667,
          "symbol": "circle"
         },
         "mode": "markers",
         "name": "HA",
         "orientation": "v",
         "showlegend": true,
         "type": "scatter",
         "x": [
          53.94843930635838
         ],
         "xaxis": "x",
         "y": [
          49.67907514450867
         ],
         "yaxis": "y"
        },
        {
         "hovertemplate": "<b>%{hovertext}</b><br><br>UniqueCarrier=MQ<br>Average Arrival Delay=%{x}<br>Average Departure Delay=%{y}<br>FlightCount=%{marker.size}<extra></extra>",
         "hovertext": [
          "MQ"
         ],
         "legendgroup": "MQ",
         "marker": {
          "color": "#EF553B",
          "size": [
           97555
          ],
          "sizemode": "area",
          "sizeref": 56.54416666666667,
          "symbol": "circle"
         },
         "mode": "markers",
         "name": "MQ",
         "orientation": "v",
         "showlegend": true,
         "type": "scatter",
         "x": [
          63.413858848854495
         ],
         "xaxis": "x",
         "y": [
          57.52624673261237
         ],
         "yaxis": "y"
        },
        {
         "hovertemplate": "<b>%{hovertext}</b><br><br>UniqueCarrier=NW<br>Average Arrival Delay=%{x}<br>Average Departure Delay=%{y}<br>FlightCount=%{marker.size}<extra></extra>",
         "hovertext": [
          "NW"
         ],
         "legendgroup": "NW",
         "marker": {
          "color": "#00cc96",
          "size": [
           54744
          ],
          "sizemode": "area",
          "sizeref": 56.54416666666667,
          "symbol": "circle"
         },
         "mode": "markers",
         "name": "NW",
         "orientation": "v",
         "showlegend": true,
         "type": "scatter",
         "x": [
          61.30880096448926
         ],
         "xaxis": "x",
         "y": [
          53.99950679526523
         ],
         "yaxis": "y"
        },
        {
         "hovertemplate": "<b>%{hovertext}</b><br><br>UniqueCarrier=OH<br>Average Arrival Delay=%{x}<br>Average Departure Delay=%{y}<br>FlightCount=%{marker.size}<extra></extra>",
         "hovertext": [
          "OH"
         ],
         "legendgroup": "OH",
         "marker": {
          "color": "#ab63fa",
          "size": [
           39292
          ],
          "sizemode": "area",
          "sizeref": 56.54416666666667,
          "symbol": "circle"
         },
         "mode": "markers",
         "name": "OH",
         "orientation": "v",
         "showlegend": true,
         "type": "scatter",
         "x": [
          66.5969154026265
         ],
         "xaxis": "x",
         "y": [
          60.40626590654586
         ],
         "yaxis": "y"
        },
        {
         "hovertemplate": "<b>%{hovertext}</b><br><br>UniqueCarrier=OO<br>Average Arrival Delay=%{x}<br>Average Departure Delay=%{y}<br>FlightCount=%{marker.size}<extra></extra>",
         "hovertext": [
          "OO"
         ],
         "legendgroup": "OO",
         "marker": {
          "color": "#FFA15A",
          "size": [
           88991
          ],
          "sizemode": "area",
          "sizeref": 56.54416666666667,
          "symbol": "circle"
         },
         "mode": "markers",
         "name": "OO",
         "orientation": "v",
         "showlegend": true,
         "type": "scatter",
         "x": [
          64.76856086570552
         ],
         "xaxis": "x",
         "y": [
          60.55129170365542
         ],
         "yaxis": "y"
        },
        {
         "hovertemplate": "<b>%{hovertext}</b><br><br>UniqueCarrier=UA<br>Average Arrival Delay=%{x}<br>Average Departure Delay=%{y}<br>FlightCount=%{marker.size}<extra></extra>",
         "hovertext": [
          "UA"
         ],
         "legendgroup": "UA",
         "marker": {
          "color": "#19d3f3",
          "size": [
           95465
          ],
          "sizemode": "area",
          "sizeref": 56.54416666666667,
          "symbol": "circle"
         },
         "mode": "markers",
         "name": "UA",
         "orientation": "v",
         "showlegend": true,
         "type": "scatter",
         "x": [
          69.49174042842927
         ],
         "xaxis": "x",
         "y": [
          67.22077201068454
         ],
         "yaxis": "y"
        },
        {
         "hovertemplate": "<b>%{hovertext}</b><br><br>UniqueCarrier=US<br>Average Arrival Delay=%{x}<br>Average Departure Delay=%{y}<br>FlightCount=%{marker.size}<extra></extra>",
         "hovertext": [
          "US"
         ],
         "legendgroup": "US",
         "marker": {
          "color": "#FF6692",
          "size": [
           59508
          ],
          "sizemode": "area",
          "sizeref": 56.54416666666667,
          "symbol": "circle"
         },
         "mode": "markers",
         "name": "US",
         "orientation": "v",
         "showlegend": true,
         "type": "scatter",
         "x": [
          58.795052766014656
         ],
         "xaxis": "x",
         "y": [
          55.47445721583652
         ],
         "yaxis": "y"
        },
        {
         "hovertemplate": "<b>%{hovertext}</b><br><br>UniqueCarrier=WN<br>Average Arrival Delay=%{x}<br>Average Departure Delay=%{y}<br>FlightCount=%{marker.size}<extra></extra>",
         "hovertext": [
          "WN"
         ],
         "legendgroup": "WN",
         "marker": {
          "color": "#B6E880",
          "size": [
           203559
          ],
          "sizemode": "area",
          "sizeref": 56.54416666666667,
          "symbol": "circle"
         },
         "mode": "markers",
         "name": "WN",
         "orientation": "v",
         "showlegend": true,
         "type": "scatter",
         "x": [
          52.64651526093172
         ],
         "xaxis": "x",
         "y": [
          53.51976085557504
         ],
         "yaxis": "y"
        },
        {
         "hovertemplate": "<b>%{hovertext}</b><br><br>UniqueCarrier=XE<br>Average Arrival Delay=%{x}<br>Average Departure Delay=%{y}<br>FlightCount=%{marker.size}<extra></extra>",
         "hovertext": [
          "XE"
         ],
         "legendgroup": "XE",
         "marker": {
          "color": "#FF97FF",
          "size": [
           72008
          ],
          "sizemode": "area",
          "sizeref": 56.54416666666667,
          "symbol": "circle"
         },
         "mode": "markers",
         "name": "XE",
         "orientation": "v",
         "showlegend": true,
         "type": "scatter",
         "x": [
          70.19957504721698
         ],
         "xaxis": "x",
         "y": [
          66.01991445394957
         ],
         "yaxis": "y"
        },
        {
         "hovertemplate": "<b>%{hovertext}</b><br><br>UniqueCarrier=YV<br>Average Arrival Delay=%{x}<br>Average Departure Delay=%{y}<br>FlightCount=%{marker.size}<extra></extra>",
         "hovertext": [
          "YV"
         ],
         "legendgroup": "YV",
         "marker": {
          "color": "#FECB52",
          "size": [
           50646
          ],
          "sizemode": "area",
          "sizeref": 56.54416666666667,
          "symbol": "circle"
         },
         "mode": "markers",
         "name": "YV",
         "orientation": "v",
         "showlegend": true,
         "type": "scatter",
         "x": [
          71.09937606128815
         ],
         "xaxis": "x",
         "y": [
          68.81487185562533
         ],
         "yaxis": "y"
        }
       ],
       "layout": {
        "height": 600,
        "legend": {
         "itemsizing": "constant",
         "title": {
          "text": "UniqueCarrier"
         },
         "tracegroupgap": 0
        },
        "template": {
         "data": {
          "bar": [
           {
            "error_x": {
             "color": "#2a3f5f"
            },
            "error_y": {
             "color": "#2a3f5f"
            },
            "marker": {
             "line": {
              "color": "#E5ECF6",
              "width": 0.5
             },
             "pattern": {
              "fillmode": "overlay",
              "size": 10,
              "solidity": 0.2
             }
            },
            "type": "bar"
           }
          ],
          "barpolar": [
           {
            "marker": {
             "line": {
              "color": "#E5ECF6",
              "width": 0.5
             },
             "pattern": {
              "fillmode": "overlay",
              "size": 10,
              "solidity": 0.2
             }
            },
            "type": "barpolar"
           }
          ],
          "carpet": [
           {
            "aaxis": {
             "endlinecolor": "#2a3f5f",
             "gridcolor": "white",
             "linecolor": "white",
             "minorgridcolor": "white",
             "startlinecolor": "#2a3f5f"
            },
            "baxis": {
             "endlinecolor": "#2a3f5f",
             "gridcolor": "white",
             "linecolor": "white",
             "minorgridcolor": "white",
             "startlinecolor": "#2a3f5f"
            },
            "type": "carpet"
           }
          ],
          "choropleth": [
           {
            "colorbar": {
             "outlinewidth": 0,
             "ticks": ""
            },
            "type": "choropleth"
           }
          ],
          "contour": [
           {
            "colorbar": {
             "outlinewidth": 0,
             "ticks": ""
            },
            "colorscale": [
             [
              0,
              "#0d0887"
             ],
             [
              0.1111111111111111,
              "#46039f"
             ],
             [
              0.2222222222222222,
              "#7201a8"
             ],
             [
              0.3333333333333333,
              "#9c179e"
             ],
             [
              0.4444444444444444,
              "#bd3786"
             ],
             [
              0.5555555555555556,
              "#d8576b"
             ],
             [
              0.6666666666666666,
              "#ed7953"
             ],
             [
              0.7777777777777778,
              "#fb9f3a"
             ],
             [
              0.8888888888888888,
              "#fdca26"
             ],
             [
              1,
              "#f0f921"
             ]
            ],
            "type": "contour"
           }
          ],
          "contourcarpet": [
           {
            "colorbar": {
             "outlinewidth": 0,
             "ticks": ""
            },
            "type": "contourcarpet"
           }
          ],
          "heatmap": [
           {
            "colorbar": {
             "outlinewidth": 0,
             "ticks": ""
            },
            "colorscale": [
             [
              0,
              "#0d0887"
             ],
             [
              0.1111111111111111,
              "#46039f"
             ],
             [
              0.2222222222222222,
              "#7201a8"
             ],
             [
              0.3333333333333333,
              "#9c179e"
             ],
             [
              0.4444444444444444,
              "#bd3786"
             ],
             [
              0.5555555555555556,
              "#d8576b"
             ],
             [
              0.6666666666666666,
              "#ed7953"
             ],
             [
              0.7777777777777778,
              "#fb9f3a"
             ],
             [
              0.8888888888888888,
              "#fdca26"
             ],
             [
              1,
              "#f0f921"
             ]
            ],
            "type": "heatmap"
           }
          ],
          "heatmapgl": [
           {
            "colorbar": {
             "outlinewidth": 0,
             "ticks": ""
            },
            "colorscale": [
             [
              0,
              "#0d0887"
             ],
             [
              0.1111111111111111,
              "#46039f"
             ],
             [
              0.2222222222222222,
              "#7201a8"
             ],
             [
              0.3333333333333333,
              "#9c179e"
             ],
             [
              0.4444444444444444,
              "#bd3786"
             ],
             [
              0.5555555555555556,
              "#d8576b"
             ],
             [
              0.6666666666666666,
              "#ed7953"
             ],
             [
              0.7777777777777778,
              "#fb9f3a"
             ],
             [
              0.8888888888888888,
              "#fdca26"
             ],
             [
              1,
              "#f0f921"
             ]
            ],
            "type": "heatmapgl"
           }
          ],
          "histogram": [
           {
            "marker": {
             "pattern": {
              "fillmode": "overlay",
              "size": 10,
              "solidity": 0.2
             }
            },
            "type": "histogram"
           }
          ],
          "histogram2d": [
           {
            "colorbar": {
             "outlinewidth": 0,
             "ticks": ""
            },
            "colorscale": [
             [
              0,
              "#0d0887"
             ],
             [
              0.1111111111111111,
              "#46039f"
             ],
             [
              0.2222222222222222,
              "#7201a8"
             ],
             [
              0.3333333333333333,
              "#9c179e"
             ],
             [
              0.4444444444444444,
              "#bd3786"
             ],
             [
              0.5555555555555556,
              "#d8576b"
             ],
             [
              0.6666666666666666,
              "#ed7953"
             ],
             [
              0.7777777777777778,
              "#fb9f3a"
             ],
             [
              0.8888888888888888,
              "#fdca26"
             ],
             [
              1,
              "#f0f921"
             ]
            ],
            "type": "histogram2d"
           }
          ],
          "histogram2dcontour": [
           {
            "colorbar": {
             "outlinewidth": 0,
             "ticks": ""
            },
            "colorscale": [
             [
              0,
              "#0d0887"
             ],
             [
              0.1111111111111111,
              "#46039f"
             ],
             [
              0.2222222222222222,
              "#7201a8"
             ],
             [
              0.3333333333333333,
              "#9c179e"
             ],
             [
              0.4444444444444444,
              "#bd3786"
             ],
             [
              0.5555555555555556,
              "#d8576b"
             ],
             [
              0.6666666666666666,
              "#ed7953"
             ],
             [
              0.7777777777777778,
              "#fb9f3a"
             ],
             [
              0.8888888888888888,
              "#fdca26"
             ],
             [
              1,
              "#f0f921"
             ]
            ],
            "type": "histogram2dcontour"
           }
          ],
          "mesh3d": [
           {
            "colorbar": {
             "outlinewidth": 0,
             "ticks": ""
            },
            "type": "mesh3d"
           }
          ],
          "parcoords": [
           {
            "line": {
             "colorbar": {
              "outlinewidth": 0,
              "ticks": ""
             }
            },
            "type": "parcoords"
           }
          ],
          "pie": [
           {
            "automargin": true,
            "type": "pie"
           }
          ],
          "scatter": [
           {
            "fillpattern": {
             "fillmode": "overlay",
             "size": 10,
             "solidity": 0.2
            },
            "type": "scatter"
           }
          ],
          "scatter3d": [
           {
            "line": {
             "colorbar": {
              "outlinewidth": 0,
              "ticks": ""
             }
            },
            "marker": {
             "colorbar": {
              "outlinewidth": 0,
              "ticks": ""
             }
            },
            "type": "scatter3d"
           }
          ],
          "scattercarpet": [
           {
            "marker": {
             "colorbar": {
              "outlinewidth": 0,
              "ticks": ""
             }
            },
            "type": "scattercarpet"
           }
          ],
          "scattergeo": [
           {
            "marker": {
             "colorbar": {
              "outlinewidth": 0,
              "ticks": ""
             }
            },
            "type": "scattergeo"
           }
          ],
          "scattergl": [
           {
            "marker": {
             "colorbar": {
              "outlinewidth": 0,
              "ticks": ""
             }
            },
            "type": "scattergl"
           }
          ],
          "scattermapbox": [
           {
            "marker": {
             "colorbar": {
              "outlinewidth": 0,
              "ticks": ""
             }
            },
            "type": "scattermapbox"
           }
          ],
          "scatterpolar": [
           {
            "marker": {
             "colorbar": {
              "outlinewidth": 0,
              "ticks": ""
             }
            },
            "type": "scatterpolar"
           }
          ],
          "scatterpolargl": [
           {
            "marker": {
             "colorbar": {
              "outlinewidth": 0,
              "ticks": ""
             }
            },
            "type": "scatterpolargl"
           }
          ],
          "scatterternary": [
           {
            "marker": {
             "colorbar": {
              "outlinewidth": 0,
              "ticks": ""
             }
            },
            "type": "scatterternary"
           }
          ],
          "surface": [
           {
            "colorbar": {
             "outlinewidth": 0,
             "ticks": ""
            },
            "colorscale": [
             [
              0,
              "#0d0887"
             ],
             [
              0.1111111111111111,
              "#46039f"
             ],
             [
              0.2222222222222222,
              "#7201a8"
             ],
             [
              0.3333333333333333,
              "#9c179e"
             ],
             [
              0.4444444444444444,
              "#bd3786"
             ],
             [
              0.5555555555555556,
              "#d8576b"
             ],
             [
              0.6666666666666666,
              "#ed7953"
             ],
             [
              0.7777777777777778,
              "#fb9f3a"
             ],
             [
              0.8888888888888888,
              "#fdca26"
             ],
             [
              1,
              "#f0f921"
             ]
            ],
            "type": "surface"
           }
          ],
          "table": [
           {
            "cells": {
             "fill": {
              "color": "#EBF0F8"
             },
             "line": {
              "color": "white"
             }
            },
            "header": {
             "fill": {
              "color": "#C8D4E3"
             },
             "line": {
              "color": "white"
             }
            },
            "type": "table"
           }
          ]
         },
         "layout": {
          "annotationdefaults": {
           "arrowcolor": "#2a3f5f",
           "arrowhead": 0,
           "arrowwidth": 1
          },
          "autotypenumbers": "strict",
          "coloraxis": {
           "colorbar": {
            "outlinewidth": 0,
            "ticks": ""
           }
          },
          "colorscale": {
           "diverging": [
            [
             0,
             "#8e0152"
            ],
            [
             0.1,
             "#c51b7d"
            ],
            [
             0.2,
             "#de77ae"
            ],
            [
             0.3,
             "#f1b6da"
            ],
            [
             0.4,
             "#fde0ef"
            ],
            [
             0.5,
             "#f7f7f7"
            ],
            [
             0.6,
             "#e6f5d0"
            ],
            [
             0.7,
             "#b8e186"
            ],
            [
             0.8,
             "#7fbc41"
            ],
            [
             0.9,
             "#4d9221"
            ],
            [
             1,
             "#276419"
            ]
           ],
           "sequential": [
            [
             0,
             "#0d0887"
            ],
            [
             0.1111111111111111,
             "#46039f"
            ],
            [
             0.2222222222222222,
             "#7201a8"
            ],
            [
             0.3333333333333333,
             "#9c179e"
            ],
            [
             0.4444444444444444,
             "#bd3786"
            ],
            [
             0.5555555555555556,
             "#d8576b"
            ],
            [
             0.6666666666666666,
             "#ed7953"
            ],
            [
             0.7777777777777778,
             "#fb9f3a"
            ],
            [
             0.8888888888888888,
             "#fdca26"
            ],
            [
             1,
             "#f0f921"
            ]
           ],
           "sequentialminus": [
            [
             0,
             "#0d0887"
            ],
            [
             0.1111111111111111,
             "#46039f"
            ],
            [
             0.2222222222222222,
             "#7201a8"
            ],
            [
             0.3333333333333333,
             "#9c179e"
            ],
            [
             0.4444444444444444,
             "#bd3786"
            ],
            [
             0.5555555555555556,
             "#d8576b"
            ],
            [
             0.6666666666666666,
             "#ed7953"
            ],
            [
             0.7777777777777778,
             "#fb9f3a"
            ],
            [
             0.8888888888888888,
             "#fdca26"
            ],
            [
             1,
             "#f0f921"
            ]
           ]
          },
          "colorway": [
           "#636efa",
           "#EF553B",
           "#00cc96",
           "#ab63fa",
           "#FFA15A",
           "#19d3f3",
           "#FF6692",
           "#B6E880",
           "#FF97FF",
           "#FECB52"
          ],
          "font": {
           "color": "#2a3f5f"
          },
          "geo": {
           "bgcolor": "white",
           "lakecolor": "white",
           "landcolor": "#E5ECF6",
           "showlakes": true,
           "showland": true,
           "subunitcolor": "white"
          },
          "hoverlabel": {
           "align": "left"
          },
          "hovermode": "closest",
          "mapbox": {
           "style": "light"
          },
          "paper_bgcolor": "white",
          "plot_bgcolor": "#E5ECF6",
          "polar": {
           "angularaxis": {
            "gridcolor": "white",
            "linecolor": "white",
            "ticks": ""
           },
           "bgcolor": "#E5ECF6",
           "radialaxis": {
            "gridcolor": "white",
            "linecolor": "white",
            "ticks": ""
           }
          },
          "scene": {
           "xaxis": {
            "backgroundcolor": "#E5ECF6",
            "gridcolor": "white",
            "gridwidth": 2,
            "linecolor": "white",
            "showbackground": true,
            "ticks": "",
            "zerolinecolor": "white"
           },
           "yaxis": {
            "backgroundcolor": "#E5ECF6",
            "gridcolor": "white",
            "gridwidth": 2,
            "linecolor": "white",
            "showbackground": true,
            "ticks": "",
            "zerolinecolor": "white"
           },
           "zaxis": {
            "backgroundcolor": "#E5ECF6",
            "gridcolor": "white",
            "gridwidth": 2,
            "linecolor": "white",
            "showbackground": true,
            "ticks": "",
            "zerolinecolor": "white"
           }
          },
          "shapedefaults": {
           "line": {
            "color": "#2a3f5f"
           }
          },
          "ternary": {
           "aaxis": {
            "gridcolor": "white",
            "linecolor": "white",
            "ticks": ""
           },
           "baxis": {
            "gridcolor": "white",
            "linecolor": "white",
            "ticks": ""
           },
           "bgcolor": "#E5ECF6",
           "caxis": {
            "gridcolor": "white",
            "linecolor": "white",
            "ticks": ""
           }
          },
          "title": {
           "x": 0.05
          },
          "xaxis": {
           "automargin": true,
           "gridcolor": "white",
           "linecolor": "white",
           "ticks": "",
           "title": {
            "standoff": 15
           },
           "zerolinecolor": "white",
           "zerolinewidth": 2
          },
          "yaxis": {
           "automargin": true,
           "gridcolor": "white",
           "linecolor": "white",
           "ticks": "",
           "title": {
            "standoff": 15
           },
           "zerolinecolor": "white",
           "zerolinewidth": 2
          }
         }
        },
        "title": {
         "text": "Flight Performance: Arrival vs Departure Delay"
        },
        "updatemenus": [
         {
          "buttons": [
           {
            "args": [
             {
              "visible": [
               true,
               true,
               true,
               true,
               true,
               true,
               true,
               true,
               true,
               true,
               true,
               true,
               true,
               true,
               true,
               true,
               true,
               true,
               true,
               true
              ]
             },
             {
              "title": "All Carriers"
             }
            ],
            "label": "All Carriers",
            "method": "update"
           },
           {
            "args": [
             {
              "visible": [
               true,
               false,
               false,
               false,
               false,
               false,
               false,
               false,
               false,
               false,
               false,
               false,
               false,
               false,
               false,
               false,
               false,
               false,
               false,
               false
              ]
             },
             {
              "title": "Carrier: 9E"
             }
            ],
            "label": "9E",
            "method": "update"
           },
           {
            "args": [
             {
              "visible": [
               false,
               true,
               false,
               false,
               false,
               false,
               false,
               false,
               false,
               false,
               false,
               false,
               false,
               false,
               false,
               false,
               false,
               false,
               false,
               false
              ]
             },
             {
              "title": "Carrier: AA"
             }
            ],
            "label": "AA",
            "method": "update"
           },
           {
            "args": [
             {
              "visible": [
               false,
               false,
               true,
               false,
               false,
               false,
               false,
               false,
               false,
               false,
               false,
               false,
               false,
               false,
               false,
               false,
               false,
               false,
               false,
               false
              ]
             },
             {
              "title": "Carrier: AQ"
             }
            ],
            "label": "AQ",
            "method": "update"
           },
           {
            "args": [
             {
              "visible": [
               false,
               false,
               false,
               true,
               false,
               false,
               false,
               false,
               false,
               false,
               false,
               false,
               false,
               false,
               false,
               false,
               false,
               false,
               false,
               false
              ]
             },
             {
              "title": "Carrier: AS"
             }
            ],
            "label": "AS",
            "method": "update"
           },
           {
            "args": [
             {
              "visible": [
               false,
               false,
               false,
               false,
               true,
               false,
               false,
               false,
               false,
               false,
               false,
               false,
               false,
               false,
               false,
               false,
               false,
               false,
               false,
               false
              ]
             },
             {
              "title": "Carrier: B6"
             }
            ],
            "label": "B6",
            "method": "update"
           },
           {
            "args": [
             {
              "visible": [
               false,
               false,
               false,
               false,
               false,
               true,
               false,
               false,
               false,
               false,
               false,
               false,
               false,
               false,
               false,
               false,
               false,
               false,
               false,
               false
              ]
             },
             {
              "title": "Carrier: CO"
             }
            ],
            "label": "CO",
            "method": "update"
           },
           {
            "args": [
             {
              "visible": [
               false,
               false,
               false,
               false,
               false,
               false,
               true,
               false,
               false,
               false,
               false,
               false,
               false,
               false,
               false,
               false,
               false,
               false,
               false,
               false
              ]
             },
             {
              "title": "Carrier: DL"
             }
            ],
            "label": "DL",
            "method": "update"
           },
           {
            "args": [
             {
              "visible": [
               false,
               false,
               false,
               false,
               false,
               false,
               false,
               true,
               false,
               false,
               false,
               false,
               false,
               false,
               false,
               false,
               false,
               false,
               false,
               false
              ]
             },
             {
              "title": "Carrier: EV"
             }
            ],
            "label": "EV",
            "method": "update"
           },
           {
            "args": [
             {
              "visible": [
               false,
               false,
               false,
               false,
               false,
               false,
               false,
               false,
               true,
               false,
               false,
               false,
               false,
               false,
               false,
               false,
               false,
               false,
               false,
               false
              ]
             },
             {
              "title": "Carrier: F9"
             }
            ],
            "label": "F9",
            "method": "update"
           },
           {
            "args": [
             {
              "visible": [
               false,
               false,
               false,
               false,
               false,
               false,
               false,
               false,
               false,
               true,
               false,
               false,
               false,
               false,
               false,
               false,
               false,
               false,
               false,
               false
              ]
             },
             {
              "title": "Carrier: FL"
             }
            ],
            "label": "FL",
            "method": "update"
           },
           {
            "args": [
             {
              "visible": [
               false,
               false,
               false,
               false,
               false,
               false,
               false,
               false,
               false,
               false,
               true,
               false,
               false,
               false,
               false,
               false,
               false,
               false,
               false,
               false
              ]
             },
             {
              "title": "Carrier: HA"
             }
            ],
            "label": "HA",
            "method": "update"
           },
           {
            "args": [
             {
              "visible": [
               false,
               false,
               false,
               false,
               false,
               false,
               false,
               false,
               false,
               false,
               false,
               true,
               false,
               false,
               false,
               false,
               false,
               false,
               false,
               false
              ]
             },
             {
              "title": "Carrier: MQ"
             }
            ],
            "label": "MQ",
            "method": "update"
           },
           {
            "args": [
             {
              "visible": [
               false,
               false,
               false,
               false,
               false,
               false,
               false,
               false,
               false,
               false,
               false,
               false,
               true,
               false,
               false,
               false,
               false,
               false,
               false,
               false
              ]
             },
             {
              "title": "Carrier: NW"
             }
            ],
            "label": "NW",
            "method": "update"
           },
           {
            "args": [
             {
              "visible": [
               false,
               false,
               false,
               false,
               false,
               false,
               false,
               false,
               false,
               false,
               false,
               false,
               false,
               true,
               false,
               false,
               false,
               false,
               false,
               false
              ]
             },
             {
              "title": "Carrier: OH"
             }
            ],
            "label": "OH",
            "method": "update"
           },
           {
            "args": [
             {
              "visible": [
               false,
               false,
               false,
               false,
               false,
               false,
               false,
               false,
               false,
               false,
               false,
               false,
               false,
               false,
               true,
               false,
               false,
               false,
               false,
               false
              ]
             },
             {
              "title": "Carrier: OO"
             }
            ],
            "label": "OO",
            "method": "update"
           },
           {
            "args": [
             {
              "visible": [
               false,
               false,
               false,
               false,
               false,
               false,
               false,
               false,
               false,
               false,
               false,
               false,
               false,
               false,
               false,
               true,
               false,
               false,
               false,
               false
              ]
             },
             {
              "title": "Carrier: UA"
             }
            ],
            "label": "UA",
            "method": "update"
           },
           {
            "args": [
             {
              "visible": [
               false,
               false,
               false,
               false,
               false,
               false,
               false,
               false,
               false,
               false,
               false,
               false,
               false,
               false,
               false,
               false,
               true,
               false,
               false,
               false
              ]
             },
             {
              "title": "Carrier: US"
             }
            ],
            "label": "US",
            "method": "update"
           },
           {
            "args": [
             {
              "visible": [
               false,
               false,
               false,
               false,
               false,
               false,
               false,
               false,
               false,
               false,
               false,
               false,
               false,
               false,
               false,
               false,
               false,
               true,
               false,
               false
              ]
             },
             {
              "title": "Carrier: WN"
             }
            ],
            "label": "WN",
            "method": "update"
           },
           {
            "args": [
             {
              "visible": [
               false,
               false,
               false,
               false,
               false,
               false,
               false,
               false,
               false,
               false,
               false,
               false,
               false,
               false,
               false,
               false,
               false,
               false,
               true,
               false
              ]
             },
             {
              "title": "Carrier: XE"
             }
            ],
            "label": "XE",
            "method": "update"
           },
           {
            "args": [
             {
              "visible": [
               false,
               false,
               false,
               false,
               false,
               false,
               false,
               false,
               false,
               false,
               false,
               false,
               false,
               false,
               false,
               false,
               false,
               false,
               false,
               true
              ]
             },
             {
              "title": "Carrier: YV"
             }
            ],
            "label": "YV",
            "method": "update"
           }
          ],
          "direction": "down",
          "showactive": true,
          "x": 1.17,
          "xanchor": "right",
          "y": 1.1,
          "yanchor": "top"
         }
        ],
        "width": 1000,
        "xaxis": {
         "anchor": "y",
         "autorange": true,
         "domain": [
          0,
          1
         ],
         "range": [
          40.62277388361953,
          81.75191394454143
         ],
         "title": {
          "text": "Average Arrival Delay"
         },
         "type": "linear"
        },
        "yaxis": {
         "anchor": "x",
         "autorange": true,
         "domain": [
          0,
          1
         ],
         "range": [
          36.888305148294016,
          76.73513058629841
         ],
         "title": {
          "text": "Average Departure Delay"
         },
         "type": "linear"
        }
       }
      },
      "image/png": "[encoded data removed]",
      "text/html": [
       "<div>                            <div id=\"956118b8-7dcb-49bf-b6af-5c73de1fbe31\" class=\"plotly-graph-div\" style=\"height:600px; width:1000px;\"></div>            <script type=\"text/javascript\">                require([\"plotly\"], function(Plotly) {                    window.PLOTLYENV=window.PLOTLYENV || {};                                    if (document.getElementById(\"956118b8-7dcb-49bf-b6af-5c73de1fbe31\")) {                    Plotly.newPlot(                        \"956118b8-7dcb-49bf-b6af-5c73de1fbe31\",                        [{\"hovertemplate\":\"\\u003cb\\u003e%{hovertext}\\u003c\\u002fb\\u003e\\u003cbr\\u003e\\u003cbr\\u003eUniqueCarrier=9E\\u003cbr\\u003eAverage Arrival Delay=%{x}\\u003cbr\\u003eAverage Departure Delay=%{y}\\u003cbr\\u003eFlightCount=%{marker.size}\\u003cextra\\u003e\\u003c\\u002fextra\\u003e\",\"hovertext\":[\"9E\"],\"legendgroup\":\"9E\",\"marker\":{\"color\":\"#636efa\",\"size\":[35630],\"sizemode\":\"area\",\"sizeref\":56.54416666666667,\"symbol\":\"circle\"},\"mode\":\"markers\",\"name\":\"9E\",\"orientation\":\"v\",\"showlegend\":true,\"x\":[66.14729160819535],\"xaxis\":\"x\",\"y\":[62.768930676396295],\"yaxis\":\"y\",\"type\":\"scatter\"},{\"hovertemplate\":\"\\u003cb\\u003e%{hovertext}\\u003c\\u002fb\\u003e\\u003cbr\\u003e\\u003cbr\\u003eUniqueCarrier=AA\\u003cbr\\u003eAverage Arrival Delay=%{x}\\u003cbr\\u003eAverage Departure Delay=%{y}\\u003cbr\\u003eFlightCount=%{marker.size}\\u003cextra\\u003e\\u003c\\u002fextra\\u003e\",\"hovertext\":[\"AA\"],\"legendgroup\":\"AA\",\"marker\":{\"color\":\"#EF553B\",\"size\":[132257],\"sizemode\":\"area\",\"sizeref\":56.54416666666667,\"symbol\":\"circle\"},\"mode\":\"markers\",\"name\":\"AA\",\"orientation\":\"v\",\"showlegend\":true,\"x\":[65.75745707221546],\"xaxis\":\"x\",\"y\":[61.099722509961666],\"yaxis\":\"y\",\"type\":\"scatter\"},{\"hovertemplate\":\"\\u003cb\\u003e%{hovertext}\\u003c\\u002fb\\u003e\\u003cbr\\u003e\\u003cbr\\u003eUniqueCarrier=AQ\\u003cbr\\u003eAverage Arrival Delay=%{x}\\u003cbr\\u003eAverage Departure Delay=%{y}\\u003cbr\\u003eFlightCount=%{marker.size}\\u003cextra\\u003e\\u003c\\u002fextra\\u003e\",\"hovertext\":[\"AQ\"],\"legendgroup\":\"AQ\",\"marker\":{\"color\":\"#00cc96\",\"size\":[340],\"sizemode\":\"area\",\"sizeref\":56.54416666666667,\"symbol\":\"circle\"},\"mode\":\"markers\",\"name\":\"AQ\",\"orientation\":\"v\",\"showlegend\":true,\"x\":[42.838235294117645],\"xaxis\":\"x\",\"y\":[43.188235294117646],\"yaxis\":\"y\",\"type\":\"scatter\"},{\"hovertemplate\":\"\\u003cb\\u003e%{hovertext}\\u003c\\u002fb\\u003e\\u003cbr\\u003e\\u003cbr\\u003eUniqueCarrier=AS\\u003cbr\\u003eAverage Arrival Delay=%{x}\\u003cbr\\u003eAverage Departure Delay=%{y}\\u003cbr\\u003eFlightCount=%{marker.size}\\u003cextra\\u003e\\u003c\\u002fextra\\u003e\",\"hovertext\":[\"AS\"],\"legendgroup\":\"AS\",\"marker\":{\"color\":\"#ab63fa\",\"size\":[24012],\"sizemode\":\"area\",\"sizeref\":56.54416666666667,\"symbol\":\"circle\"},\"mode\":\"markers\",\"name\":\"AS\",\"orientation\":\"v\",\"showlegend\":true,\"x\":[56.65904547726137],\"xaxis\":\"x\",\"y\":[53.93286689988339],\"yaxis\":\"y\",\"type\":\"scatter\"},{\"hovertemplate\":\"\\u003cb\\u003e%{hovertext}\\u003c\\u002fb\\u003e\\u003cbr\\u003e\\u003cbr\\u003eUniqueCarrier=B6\\u003cbr\\u003eAverage Arrival Delay=%{x}\\u003cbr\\u003eAverage Departure Delay=%{y}\\u003cbr\\u003eFlightCount=%{marker.size}\\u003cextra\\u003e\\u003c\\u002fextra\\u003e\",\"hovertext\":[\"B6\"],\"legendgroup\":\"B6\",\"marker\":{\"color\":\"#FFA15A\",\"size\":[38232],\"sizemode\":\"area\",\"sizeref\":56.54416666666667,\"symbol\":\"circle\"},\"mode\":\"markers\",\"name\":\"B6\",\"orientation\":\"v\",\"showlegend\":true,\"x\":[78.60590604729023],\"xaxis\":\"x\",\"y\":[72.79247750575435],\"yaxis\":\"y\",\"type\":\"scatter\"},{\"hovertemplate\":\"\\u003cb\\u003e%{hovertext}\\u003c\\u002fb\\u003e\\u003cbr\\u003e\\u003cbr\\u003eUniqueCarrier=CO\\u003cbr\\u003eAverage Arrival Delay=%{x}\\u003cbr\\u003eAverage Departure Delay=%{y}\\u003cbr\\u003eFlightCount=%{marker.size}\\u003cextra\\u003e\\u003c\\u002fextra\\u003e\",\"hovertext\":[\"CO\"],\"legendgroup\":\"CO\",\"marker\":{\"color\":\"#19d3f3\",\"size\":[58958],\"sizemode\":\"area\",\"sizeref\":56.54416666666667,\"symbol\":\"circle\"},\"mode\":\"markers\",\"name\":\"CO\",\"orientation\":\"v\",\"showlegend\":true,\"x\":[67.46407612198514],\"xaxis\":\"x\",\"y\":[63.44663998100343],\"yaxis\":\"y\",\"type\":\"scatter\"},{\"hovertemplate\":\"\\u003cb\\u003e%{hovertext}\\u003c\\u002fb\\u003e\\u003cbr\\u003e\\u003cbr\\u003eUniqueCarrier=DL\\u003cbr\\u003eAverage Arrival Delay=%{x}\\u003cbr\\u003eAverage Departure Delay=%{y}\\u003cbr\\u003eFlightCount=%{marker.size}\\u003cextra\\u003e\\u003c\\u002fextra\\u003e\",\"hovertext\":[\"DL\"],\"legendgroup\":\"DL\",\"marker\":{\"color\":\"#FF6692\",\"size\":[72252],\"sizemode\":\"area\",\"sizeref\":56.54416666666667,\"symbol\":\"circle\"},\"mode\":\"markers\",\"name\":\"DL\",\"orientation\":\"v\",\"showlegend\":true,\"x\":[60.84350606211593],\"xaxis\":\"x\",\"y\":[54.06509162376128],\"yaxis\":\"y\",\"type\":\"scatter\"},{\"hovertemplate\":\"\\u003cb\\u003e%{hovertext}\\u003c\\u002fb\\u003e\\u003cbr\\u003e\\u003cbr\\u003eUniqueCarrier=EV\\u003cbr\\u003eAverage Arrival Delay=%{x}\\u003cbr\\u003eAverage Departure Delay=%{y}\\u003cbr\\u003eFlightCount=%{marker.size}\\u003cextra\\u003e\\u003c\\u002fextra\\u003e\",\"hovertext\":[\"EV\"],\"legendgroup\":\"EV\",\"marker\":{\"color\":\"#B6E880\",\"size\":[56781],\"sizemode\":\"area\",\"sizeref\":56.54416666666667,\"symbol\":\"circle\"},\"mode\":\"markers\",\"name\":\"EV\",\"orientation\":\"v\",\"showlegend\":true,\"x\":[66.49136154699636],\"xaxis\":\"x\",\"y\":[63.89802927035452],\"yaxis\":\"y\",\"type\":\"scatter\"},{\"hovertemplate\":\"\\u003cb\\u003e%{hovertext}\\u003c\\u002fb\\u003e\\u003cbr\\u003e\\u003cbr\\u003eUniqueCarrier=F9\\u003cbr\\u003eAverage Arrival Delay=%{x}\\u003cbr\\u003eAverage Departure Delay=%{y}\\u003cbr\\u003eFlightCount=%{marker.size}\\u003cextra\\u003e\\u003c\\u002fextra\\u003e\",\"hovertext\":[\"F9\"],\"legendgroup\":\"F9\",\"marker\":{\"color\":\"#FF97FF\",\"size\":[15940],\"sizemode\":\"area\",\"sizeref\":56.54416666666667,\"symbol\":\"circle\"},\"mode\":\"markers\",\"name\":\"F9\",\"orientation\":\"v\",\"showlegend\":true,\"x\":[45.25382685069009],\"xaxis\":\"x\",\"y\":[40.13996235884567],\"yaxis\":\"y\",\"type\":\"scatter\"},{\"hovertemplate\":\"\\u003cb\\u003e%{hovertext}\\u003c\\u002fb\\u003e\\u003cbr\\u003e\\u003cbr\\u003eUniqueCarrier=FL\\u003cbr\\u003eAverage Arrival Delay=%{x}\\u003cbr\\u003eAverage Departure Delay=%{y}\\u003cbr\\u003eFlightCount=%{marker.size}\\u003cextra\\u003e\\u003c\\u002fextra\\u003e\",\"hovertext\":[\"FL\"],\"legendgroup\":\"FL\",\"marker\":{\"color\":\"#FECB52\",\"size\":[46991],\"sizemode\":\"area\",\"sizeref\":56.54416666666667,\"symbol\":\"circle\"},\"mode\":\"markers\",\"name\":\"FL\",\"orientation\":\"v\",\"showlegend\":true,\"x\":[63.59590134281032],\"xaxis\":\"x\",\"y\":[57.97778297971952],\"yaxis\":\"y\",\"type\":\"scatter\"},{\"hovertemplate\":\"\\u003cb\\u003e%{hovertext}\\u003c\\u002fb\\u003e\\u003cbr\\u003e\\u003cbr\\u003eUniqueCarrier=HA\\u003cbr\\u003eAverage Arrival Delay=%{x}\\u003cbr\\u003eAverage Departure Delay=%{y}\\u003cbr\\u003eFlightCount=%{marker.size}\\u003cextra\\u003e\\u003c\\u002fextra\\u003e\",\"hovertext\":[\"HA\"],\"legendgroup\":\"HA\",\"marker\":{\"color\":\"#636efa\",\"size\":[4325],\"sizemode\":\"area\",\"sizeref\":56.54416666666667,\"symbol\":\"circle\"},\"mode\":\"markers\",\"name\":\"HA\",\"orientation\":\"v\",\"showlegend\":true,\"x\":[53.94843930635838],\"xaxis\":\"x\",\"y\":[49.67907514450867],\"yaxis\":\"y\",\"type\":\"scatter\"},{\"hovertemplate\":\"\\u003cb\\u003e%{hovertext}\\u003c\\u002fb\\u003e\\u003cbr\\u003e\\u003cbr\\u003eUniqueCarrier=MQ\\u003cbr\\u003eAverage Arrival Delay=%{x}\\u003cbr\\u003eAverage Departure Delay=%{y}\\u003cbr\\u003eFlightCount=%{marker.size}\\u003cextra\\u003e\\u003c\\u002fextra\\u003e\",\"hovertext\":[\"MQ\"],\"legendgroup\":\"MQ\",\"marker\":{\"color\":\"#EF553B\",\"size\":[97555],\"sizemode\":\"area\",\"sizeref\":56.54416666666667,\"symbol\":\"circle\"},\"mode\":\"markers\",\"name\":\"MQ\",\"orientation\":\"v\",\"showlegend\":true,\"x\":[63.413858848854495],\"xaxis\":\"x\",\"y\":[57.52624673261237],\"yaxis\":\"y\",\"type\":\"scatter\"},{\"hovertemplate\":\"\\u003cb\\u003e%{hovertext}\\u003c\\u002fb\\u003e\\u003cbr\\u003e\\u003cbr\\u003eUniqueCarrier=NW\\u003cbr\\u003eAverage Arrival Delay=%{x}\\u003cbr\\u003eAverage Departure Delay=%{y}\\u003cbr\\u003eFlightCount=%{marker.size}\\u003cextra\\u003e\\u003c\\u002fextra\\u003e\",\"hovertext\":[\"NW\"],\"legendgroup\":\"NW\",\"marker\":{\"color\":\"#00cc96\",\"size\":[54744],\"sizemode\":\"area\",\"sizeref\":56.54416666666667,\"symbol\":\"circle\"},\"mode\":\"markers\",\"name\":\"NW\",\"orientation\":\"v\",\"showlegend\":true,\"x\":[61.30880096448926],\"xaxis\":\"x\",\"y\":[53.99950679526523],\"yaxis\":\"y\",\"type\":\"scatter\"},{\"hovertemplate\":\"\\u003cb\\u003e%{hovertext}\\u003c\\u002fb\\u003e\\u003cbr\\u003e\\u003cbr\\u003eUniqueCarrier=OH\\u003cbr\\u003eAverage Arrival Delay=%{x}\\u003cbr\\u003eAverage Departure Delay=%{y}\\u003cbr\\u003eFlightCount=%{marker.size}\\u003cextra\\u003e\\u003c\\u002fextra\\u003e\",\"hovertext\":[\"OH\"],\"legendgroup\":\"OH\",\"marker\":{\"color\":\"#ab63fa\",\"size\":[39292],\"sizemode\":\"area\",\"sizeref\":56.54416666666667,\"symbol\":\"circle\"},\"mode\":\"markers\",\"name\":\"OH\",\"orientation\":\"v\",\"showlegend\":true,\"x\":[66.5969154026265],\"xaxis\":\"x\",\"y\":[60.40626590654586],\"yaxis\":\"y\",\"type\":\"scatter\"},{\"hovertemplate\":\"\\u003cb\\u003e%{hovertext}\\u003c\\u002fb\\u003e\\u003cbr\\u003e\\u003cbr\\u003eUniqueCarrier=OO\\u003cbr\\u003eAverage Arrival Delay=%{x}\\u003cbr\\u003eAverage Departure Delay=%{y}\\u003cbr\\u003eFlightCount=%{marker.size}\\u003cextra\\u003e\\u003c\\u002fextra\\u003e\",\"hovertext\":[\"OO\"],\"legendgroup\":\"OO\",\"marker\":{\"color\":\"#FFA15A\",\"size\":[88991],\"sizemode\":\"area\",\"sizeref\":56.54416666666667,\"symbol\":\"circle\"},\"mode\":\"markers\",\"name\":\"OO\",\"orientation\":\"v\",\"showlegend\":true,\"x\":[64.76856086570552],\"xaxis\":\"x\",\"y\":[60.55129170365542],\"yaxis\":\"y\",\"type\":\"scatter\"},{\"hovertemplate\":\"\\u003cb\\u003e%{hovertext}\\u003c\\u002fb\\u003e\\u003cbr\\u003e\\u003cbr\\u003eUniqueCarrier=UA\\u003cbr\\u003eAverage Arrival Delay=%{x}\\u003cbr\\u003eAverage Departure Delay=%{y}\\u003cbr\\u003eFlightCount=%{marker.size}\\u003cextra\\u003e\\u003c\\u002fextra\\u003e\",\"hovertext\":[\"UA\"],\"legendgroup\":\"UA\",\"marker\":{\"color\":\"#19d3f3\",\"size\":[95465],\"sizemode\":\"area\",\"sizeref\":56.54416666666667,\"symbol\":\"circle\"},\"mode\":\"markers\",\"name\":\"UA\",\"orientation\":\"v\",\"showlegend\":true,\"x\":[69.49174042842927],\"xaxis\":\"x\",\"y\":[67.22077201068454],\"yaxis\":\"y\",\"type\":\"scatter\"},{\"hovertemplate\":\"\\u003cb\\u003e%{hovertext}\\u003c\\u002fb\\u003e\\u003cbr\\u003e\\u003cbr\\u003eUniqueCarrier=US\\u003cbr\\u003eAverage Arrival Delay=%{x}\\u003cbr\\u003eAverage Departure Delay=%{y}\\u003cbr\\u003eFlightCount=%{marker.size}\\u003cextra\\u003e\\u003c\\u002fextra\\u003e\",\"hovertext\":[\"US\"],\"legendgroup\":\"US\",\"marker\":{\"color\":\"#FF6692\",\"size\":[59508],\"sizemode\":\"area\",\"sizeref\":56.54416666666667,\"symbol\":\"circle\"},\"mode\":\"markers\",\"name\":\"US\",\"orientation\":\"v\",\"showlegend\":true,\"x\":[58.795052766014656],\"xaxis\":\"x\",\"y\":[55.47445721583652],\"yaxis\":\"y\",\"type\":\"scatter\"},{\"hovertemplate\":\"\\u003cb\\u003e%{hovertext}\\u003c\\u002fb\\u003e\\u003cbr\\u003e\\u003cbr\\u003eUniqueCarrier=WN\\u003cbr\\u003eAverage Arrival Delay=%{x}\\u003cbr\\u003eAverage Departure Delay=%{y}\\u003cbr\\u003eFlightCount=%{marker.size}\\u003cextra\\u003e\\u003c\\u002fextra\\u003e\",\"hovertext\":[\"WN\"],\"legendgroup\":\"WN\",\"marker\":{\"color\":\"#B6E880\",\"size\":[203559],\"sizemode\":\"area\",\"sizeref\":56.54416666666667,\"symbol\":\"circle\"},\"mode\":\"markers\",\"name\":\"WN\",\"orientation\":\"v\",\"showlegend\":true,\"x\":[52.64651526093172],\"xaxis\":\"x\",\"y\":[53.51976085557504],\"yaxis\":\"y\",\"type\":\"scatter\"},{\"hovertemplate\":\"\\u003cb\\u003e%{hovertext}\\u003c\\u002fb\\u003e\\u003cbr\\u003e\\u003cbr\\u003eUniqueCarrier=XE\\u003cbr\\u003eAverage Arrival Delay=%{x}\\u003cbr\\u003eAverage Departure Delay=%{y}\\u003cbr\\u003eFlightCount=%{marker.size}\\u003cextra\\u003e\\u003c\\u002fextra\\u003e\",\"hovertext\":[\"XE\"],\"legendgroup\":\"XE\",\"marker\":{\"color\":\"#FF97FF\",\"size\":[72008],\"sizemode\":\"area\",\"sizeref\":56.54416666666667,\"symbol\":\"circle\"},\"mode\":\"markers\",\"name\":\"XE\",\"orientation\":\"v\",\"showlegend\":true,\"x\":[70.19957504721698],\"xaxis\":\"x\",\"y\":[66.01991445394957],\"yaxis\":\"y\",\"type\":\"scatter\"},{\"hovertemplate\":\"\\u003cb\\u003e%{hovertext}\\u003c\\u002fb\\u003e\\u003cbr\\u003e\\u003cbr\\u003eUniqueCarrier=YV\\u003cbr\\u003eAverage Arrival Delay=%{x}\\u003cbr\\u003eAverage Departure Delay=%{y}\\u003cbr\\u003eFlightCount=%{marker.size}\\u003cextra\\u003e\\u003c\\u002fextra\\u003e\",\"hovertext\":[\"YV\"],\"legendgroup\":\"YV\",\"marker\":{\"color\":\"#FECB52\",\"size\":[50646],\"sizemode\":\"area\",\"sizeref\":56.54416666666667,\"symbol\":\"circle\"},\"mode\":\"markers\",\"name\":\"YV\",\"orientation\":\"v\",\"showlegend\":true,\"x\":[71.09937606128815],\"xaxis\":\"x\",\"y\":[68.81487185562533],\"yaxis\":\"y\",\"type\":\"scatter\"}],                        {\"template\":{\"data\":{\"histogram2dcontour\":[{\"type\":\"histogram2dcontour\",\"colorbar\":{\"outlinewidth\":0,\"ticks\":\"\"},\"colorscale\":[[0.0,\"#0d0887\"],[0.1111111111111111,\"#46039f\"],[0.2222222222222222,\"#7201a8\"],[0.3333333333333333,\"#9c179e\"],[0.4444444444444444,\"#bd3786\"],[0.5555555555555556,\"#d8576b\"],[0.6666666666666666,\"#ed7953\"],[0.7777777777777778,\"#fb9f3a\"],[0.8888888888888888,\"#fdca26\"],[1.0,\"#f0f921\"]]}],\"choropleth\":[{\"type\":\"choropleth\",\"colorbar\":{\"outlinewidth\":0,\"ticks\":\"\"}}],\"histogram2d\":[{\"type\":\"histogram2d\",\"colorbar\":{\"outlinewidth\":0,\"ticks\":\"\"},\"colorscale\":[[0.0,\"#0d0887\"],[0.1111111111111111,\"#46039f\"],[0.2222222222222222,\"#7201a8\"],[0.3333333333333333,\"#9c179e\"],[0.4444444444444444,\"#bd3786\"],[0.5555555555555556,\"#d8576b\"],[0.6666666666666666,\"#ed7953\"],[0.7777777777777778,\"#fb9f3a\"],[0.8888888888888888,\"#fdca26\"],[1.0,\"#f0f921\"]]}],\"heatmap\":[{\"type\":\"heatmap\",\"colorbar\":{\"outlinewidth\":0,\"ticks\":\"\"},\"colorscale\":[[0.0,\"#0d0887\"],[0.1111111111111111,\"#46039f\"],[0.2222222222222222,\"#7201a8\"],[0.3333333333333333,\"#9c179e\"],[0.4444444444444444,\"#bd3786\"],[0.5555555555555556,\"#d8576b\"],[0.6666666666666666,\"#ed7953\"],[0.7777777777777778,\"#fb9f3a\"],[0.8888888888888888,\"#fdca26\"],[1.0,\"#f0f921\"]]}],\"heatmapgl\":[{\"type\":\"heatmapgl\",\"colorbar\":{\"outlinewidth\":0,\"ticks\":\"\"},\"colorscale\":[[0.0,\"#0d0887\"],[0.1111111111111111,\"#46039f\"],[0.2222222222222222,\"#7201a8\"],[0.3333333333333333,\"#9c179e\"],[0.4444444444444444,\"#bd3786\"],[0.5555555555555556,\"#d8576b\"],[0.6666666666666666,\"#ed7953\"],[0.7777777777777778,\"#fb9f3a\"],[0.8888888888888888,\"#fdca26\"],[1.0,\"#f0f921\"]]}],\"contourcarpet\":[{\"type\":\"contourcarpet\",\"colorbar\":{\"outlinewidth\":0,\"ticks\":\"\"}}],\"contour\":[{\"type\":\"contour\",\"colorbar\":{\"outlinewidth\":0,\"ticks\":\"\"},\"colorscale\":[[0.0,\"#0d0887\"],[0.1111111111111111,\"#46039f\"],[0.2222222222222222,\"#7201a8\"],[0.3333333333333333,\"#9c179e\"],[0.4444444444444444,\"#bd3786\"],[0.5555555555555556,\"#d8576b\"],[0.6666666666666666,\"#ed7953\"],[0.7777777777777778,\"#fb9f3a\"],[0.8888888888888888,\"#fdca26\"],[1.0,\"#f0f921\"]]}],\"surface\":[{\"type\":\"surface\",\"colorbar\":{\"outlinewidth\":0,\"ticks\":\"\"},\"colorscale\":[[0.0,\"#0d0887\"],[0.1111111111111111,\"#46039f\"],[0.2222222222222222,\"#7201a8\"],[0.3333333333333333,\"#9c179e\"],[0.4444444444444444,\"#bd3786\"],[0.5555555555555556,\"#d8576b\"],[0.6666666666666666,\"#ed7953\"],[0.7777777777777778,\"#fb9f3a\"],[0.8888888888888888,\"#fdca26\"],[1.0,\"#f0f921\"]]}],\"mesh3d\":[{\"type\":\"mesh3d\",\"colorbar\":{\"outlinewidth\":0,\"ticks\":\"\"}}],\"scatter\":[{\"fillpattern\":{\"fillmode\":\"overlay\",\"size\":10,\"solidity\":0.2},\"type\":\"scatter\"}],\"parcoords\":[{\"type\":\"parcoords\",\"line\":{\"colorbar\":{\"outlinewidth\":0,\"ticks\":\"\"}}}],\"scatterpolargl\":[{\"type\":\"scatterpolargl\",\"marker\":{\"colorbar\":{\"outlinewidth\":0,\"ticks\":\"\"}}}],\"bar\":[{\"error_x\":{\"color\":\"#2a3f5f\"},\"error_y\":{\"color\":\"#2a3f5f\"},\"marker\":{\"line\":{\"color\":\"#E5ECF6\",\"width\":0.5},\"pattern\":{\"fillmode\":\"overlay\",\"size\":10,\"solidity\":0.2}},\"type\":\"bar\"}],\"scattergeo\":[{\"type\":\"scattergeo\",\"marker\":{\"colorbar\":{\"outlinewidth\":0,\"ticks\":\"\"}}}],\"scatterpolar\":[{\"type\":\"scatterpolar\",\"marker\":{\"colorbar\":{\"outlinewidth\":0,\"ticks\":\"\"}}}],\"histogram\":[{\"marker\":{\"pattern\":{\"fillmode\":\"overlay\",\"size\":10,\"solidity\":0.2}},\"type\":\"histogram\"}],\"scattergl\":[{\"type\":\"scattergl\",\"marker\":{\"colorbar\":{\"outlinewidth\":0,\"ticks\":\"\"}}}],\"scatter3d\":[{\"type\":\"scatter3d\",\"line\":{\"colorbar\":{\"outlinewidth\":0,\"ticks\":\"\"}},\"marker\":{\"colorbar\":{\"outlinewidth\":0,\"ticks\":\"\"}}}],\"scattermapbox\":[{\"type\":\"scattermapbox\",\"marker\":{\"colorbar\":{\"outlinewidth\":0,\"ticks\":\"\"}}}],\"scatterternary\":[{\"type\":\"scatterternary\",\"marker\":{\"colorbar\":{\"outlinewidth\":0,\"ticks\":\"\"}}}],\"scattercarpet\":[{\"type\":\"scattercarpet\",\"marker\":{\"colorbar\":{\"outlinewidth\":0,\"ticks\":\"\"}}}],\"carpet\":[{\"aaxis\":{\"endlinecolor\":\"#2a3f5f\",\"gridcolor\":\"white\",\"linecolor\":\"white\",\"minorgridcolor\":\"white\",\"startlinecolor\":\"#2a3f5f\"},\"baxis\":{\"endlinecolor\":\"#2a3f5f\",\"gridcolor\":\"white\",\"linecolor\":\"white\",\"minorgridcolor\":\"white\",\"startlinecolor\":\"#2a3f5f\"},\"type\":\"carpet\"}],\"table\":[{\"cells\":{\"fill\":{\"color\":\"#EBF0F8\"},\"line\":{\"color\":\"white\"}},\"header\":{\"fill\":{\"color\":\"#C8D4E3\"},\"line\":{\"color\":\"white\"}},\"type\":\"table\"}],\"barpolar\":[{\"marker\":{\"line\":{\"color\":\"#E5ECF6\",\"width\":0.5},\"pattern\":{\"fillmode\":\"overlay\",\"size\":10,\"solidity\":0.2}},\"type\":\"barpolar\"}],\"pie\":[{\"automargin\":true,\"type\":\"pie\"}]},\"layout\":{\"autotypenumbers\":\"strict\",\"colorway\":[\"#636efa\",\"#EF553B\",\"#00cc96\",\"#ab63fa\",\"#FFA15A\",\"#19d3f3\",\"#FF6692\",\"#B6E880\",\"#FF97FF\",\"#FECB52\"],\"font\":{\"color\":\"#2a3f5f\"},\"hovermode\":\"closest\",\"hoverlabel\":{\"align\":\"left\"},\"paper_bgcolor\":\"white\",\"plot_bgcolor\":\"#E5ECF6\",\"polar\":{\"bgcolor\":\"#E5ECF6\",\"angularaxis\":{\"gridcolor\":\"white\",\"linecolor\":\"white\",\"ticks\":\"\"},\"radialaxis\":{\"gridcolor\":\"white\",\"linecolor\":\"white\",\"ticks\":\"\"}},\"ternary\":{\"bgcolor\":\"#E5ECF6\",\"aaxis\":{\"gridcolor\":\"white\",\"linecolor\":\"white\",\"ticks\":\"\"},\"baxis\":{\"gridcolor\":\"white\",\"linecolor\":\"white\",\"ticks\":\"\"},\"caxis\":{\"gridcolor\":\"white\",\"linecolor\":\"white\",\"ticks\":\"\"}},\"coloraxis\":{\"colorbar\":{\"outlinewidth\":0,\"ticks\":\"\"}},\"colorscale\":{\"sequential\":[[0.0,\"#0d0887\"],[0.1111111111111111,\"#46039f\"],[0.2222222222222222,\"#7201a8\"],[0.3333333333333333,\"#9c179e\"],[0.4444444444444444,\"#bd3786\"],[0.5555555555555556,\"#d8576b\"],[0.6666666666666666,\"#ed7953\"],[0.7777777777777778,\"#fb9f3a\"],[0.8888888888888888,\"#fdca26\"],[1.0,\"#f0f921\"]],\"sequentialminus\":[[0.0,\"#0d0887\"],[0.1111111111111111,\"#46039f\"],[0.2222222222222222,\"#7201a8\"],[0.3333333333333333,\"#9c179e\"],[0.4444444444444444,\"#bd3786\"],[0.5555555555555556,\"#d8576b\"],[0.6666666666666666,\"#ed7953\"],[0.7777777777777778,\"#fb9f3a\"],[0.8888888888888888,\"#fdca26\"],[1.0,\"#f0f921\"]],\"diverging\":[[0,\"#8e0152\"],[0.1,\"#c51b7d\"],[0.2,\"#de77ae\"],[0.3,\"#f1b6da\"],[0.4,\"#fde0ef\"],[0.5,\"#f7f7f7\"],[0.6,\"#e6f5d0\"],[0.7,\"#b8e186\"],[0.8,\"#7fbc41\"],[0.9,\"#4d9221\"],[1,\"#276419\"]]},\"xaxis\":{\"gridcolor\":\"white\",\"linecolor\":\"white\",\"ticks\":\"\",\"title\":{\"standoff\":15},\"zerolinecolor\":\"white\",\"automargin\":true,\"zerolinewidth\":2},\"yaxis\":{\"gridcolor\":\"white\",\"linecolor\":\"white\",\"ticks\":\"\",\"title\":{\"standoff\":15},\"zerolinecolor\":\"white\",\"automargin\":true,\"zerolinewidth\":2},\"scene\":{\"xaxis\":{\"backgroundcolor\":\"#E5ECF6\",\"gridcolor\":\"white\",\"linecolor\":\"white\",\"showbackground\":true,\"ticks\":\"\",\"zerolinecolor\":\"white\",\"gridwidth\":2},\"yaxis\":{\"backgroundcolor\":\"#E5ECF6\",\"gridcolor\":\"white\",\"linecolor\":\"white\",\"showbackground\":true,\"ticks\":\"\",\"zerolinecolor\":\"white\",\"gridwidth\":2},\"zaxis\":{\"backgroundcolor\":\"#E5ECF6\",\"gridcolor\":\"white\",\"linecolor\":\"white\",\"showbackground\":true,\"ticks\":\"\",\"zerolinecolor\":\"white\",\"gridwidth\":2}},\"shapedefaults\":{\"line\":{\"color\":\"#2a3f5f\"}},\"annotationdefaults\":{\"arrowcolor\":\"#2a3f5f\",\"arrowhead\":0,\"arrowwidth\":1},\"geo\":{\"bgcolor\":\"white\",\"landcolor\":\"#E5ECF6\",\"subunitcolor\":\"white\",\"showland\":true,\"showlakes\":true,\"lakecolor\":\"white\"},\"title\":{\"x\":0.05},\"mapbox\":{\"style\":\"light\"}}},\"xaxis\":{\"anchor\":\"y\",\"domain\":[0.0,1.0],\"title\":{\"text\":\"Average Arrival Delay\"}},\"yaxis\":{\"anchor\":\"x\",\"domain\":[0.0,1.0],\"title\":{\"text\":\"Average Departure Delay\"}},\"legend\":{\"title\":{\"text\":\"UniqueCarrier\"},\"tracegroupgap\":0,\"itemsizing\":\"constant\"},\"title\":{\"text\":\"Flight Performance: Arrival vs Departure Delay\"},\"width\":1000,\"height\":600,\"updatemenus\":[{\"buttons\":[{\"args\":[{\"visible\":[true,true,true,true,true,true,true,true,true,true,true,true,true,true,true,true,true,true,true,true]},{\"title\":\"All Carriers\"}],\"label\":\"All Carriers\",\"method\":\"update\"},{\"args\":[{\"visible\":[true,false,false,false,false,false,false,false,false,false,false,false,false,false,false,false,false,false,false,false]},{\"title\":\"Carrier: 9E\"}],\"label\":\"9E\",\"method\":\"update\"},{\"args\":[{\"visible\":[false,true,false,false,false,false,false,false,false,false,false,false,false,false,false,false,false,false,false,false]},{\"title\":\"Carrier: AA\"}],\"label\":\"AA\",\"method\":\"update\"},{\"args\":[{\"visible\":[false,false,true,false,false,false,false,false,false,false,false,false,false,false,false,false,false,false,false,false]},{\"title\":\"Carrier: AQ\"}],\"label\":\"AQ\",\"method\":\"update\"},{\"args\":[{\"visible\":[false,false,false,true,false,false,false,false,false,false,false,false,false,false,false,false,false,false,false,false]},{\"title\":\"Carrier: AS\"}],\"label\":\"AS\",\"method\":\"update\"},{\"args\":[{\"visible\":[false,false,false,false,true,false,false,false,false,false,false,false,false,false,false,false,false,false,false,false]},{\"title\":\"Carrier: B6\"}],\"label\":\"B6\",\"method\":\"update\"},{\"args\":[{\"visible\":[false,false,false,false,false,true,false,false,false,false,false,false,false,false,false,false,false,false,false,false]},{\"title\":\"Carrier: CO\"}],\"label\":\"CO\",\"method\":\"update\"},{\"args\":[{\"visible\":[false,false,false,false,false,false,true,false,false,false,false,false,false,false,false,false,false,false,false,false]},{\"title\":\"Carrier: DL\"}],\"label\":\"DL\",\"method\":\"update\"},{\"args\":[{\"visible\":[false,false,false,false,false,false,false,true,false,false,false,false,false,false,false,false,false,false,false,false]},{\"title\":\"Carrier: EV\"}],\"label\":\"EV\",\"method\":\"update\"},{\"args\":[{\"visible\":[false,false,false,false,false,false,false,false,true,false,false,false,false,false,false,false,false,false,false,false]},{\"title\":\"Carrier: F9\"}],\"label\":\"F9\",\"method\":\"update\"},{\"args\":[{\"visible\":[false,false,false,false,false,false,false,false,false,true,false,false,false,false,false,false,false,false,false,false]},{\"title\":\"Carrier: FL\"}],\"label\":\"FL\",\"method\":\"update\"},{\"args\":[{\"visible\":[false,false,false,false,false,false,false,false,false,false,true,false,false,false,false,false,false,false,false,false]},{\"title\":\"Carrier: HA\"}],\"label\":\"HA\",\"method\":\"update\"},{\"args\":[{\"visible\":[false,false,false,false,false,false,false,false,false,false,false,true,false,false,false,false,false,false,false,false]},{\"title\":\"Carrier: MQ\"}],\"label\":\"MQ\",\"method\":\"update\"},{\"args\":[{\"visible\":[false,false,false,false,false,false,false,false,false,false,false,false,true,false,false,false,false,false,false,false]},{\"title\":\"Carrier: NW\"}],\"label\":\"NW\",\"method\":\"update\"},{\"args\":[{\"visible\":[false,false,false,false,false,false,false,false,false,false,false,false,false,true,false,false,false,false,false,false]},{\"title\":\"Carrier: OH\"}],\"label\":\"OH\",\"method\":\"update\"},{\"args\":[{\"visible\":[false,false,false,false,false,false,false,false,false,false,false,false,false,false,true,false,false,false,false,false]},{\"title\":\"Carrier: OO\"}],\"label\":\"OO\",\"method\":\"update\"},{\"args\":[{\"visible\":[false,false,false,false,false,false,false,false,false,false,false,false,false,false,false,true,false,false,false,false]},{\"title\":\"Carrier: UA\"}],\"label\":\"UA\",\"method\":\"update\"},{\"args\":[{\"visible\":[false,false,false,false,false,false,false,false,false,false,false,false,false,false,false,false,true,false,false,false]},{\"title\":\"Carrier: US\"}],\"label\":\"US\",\"method\":\"update\"},{\"args\":[{\"visible\":[false,false,false,false,false,false,false,false,false,false,false,false,false,false,false,false,false,true,false,false]},{\"title\":\"Carrier: WN\"}],\"label\":\"WN\",\"method\":\"update\"},{\"args\":[{\"visible\":[false,false,false,false,false,false,false,false,false,false,false,false,false,false,false,false,false,false,true,false]},{\"title\":\"Carrier: XE\"}],\"label\":\"XE\",\"method\":\"update\"},{\"args\":[{\"visible\":[false,false,false,false,false,false,false,false,false,false,false,false,false,false,false,false,false,false,false,true]},{\"title\":\"Carrier: YV\"}],\"label\":\"YV\",\"method\":\"update\"}],\"direction\":\"down\",\"showactive\":true,\"x\":1.17,\"xanchor\":\"right\",\"y\":1.1,\"yanchor\":\"top\"}]},                        {\"responsive\": true}                    ).then(function(){\n",
       "                            \n",
       "var gd = document.getElementById('956118b8-7dcb-49bf-b6af-5c73de1fbe31');\n",
       "var x = new MutationObserver(function (mutations, observer) {{\n",
       "        var display = window.getComputedStyle(gd).display;\n",
       "        if (!display || display === 'none') {{\n",
       "            console.log([gd, 'removed!']);\n",
       "            Plotly.purge(gd);\n",
       "            observer.disconnect();\n",
       "        }}\n",
       "}});\n",
       "\n",
       "// Listen for the removal of the full notebook cells\n",
       "var notebookContainer = gd.closest('#notebook-container');\n",
       "if (notebookContainer) {{\n",
       "    x.observe(notebookContainer, {childList: true});\n",
       "}}\n",
       "\n",
       "// Listen for the clearing of the current output cell\n",
       "var outputEl = gd.closest('.output');\n",
       "if (outputEl) {{\n",
       "    x.observe(outputEl, {childList: true});\n",
       "}}\n",
       "\n",
       "                        })                };                });            </script>        </div>"
      ]
     },
     "metadata": {},
     "output_type": "display_data"
    }
   ],
   "source": [
    "import pandas as pd\n",
    "import plotly.express as px\n",
    "\n",
    "# Create the interactive scatter plot\n",
    "def create_interactive_plot(airline_df):\n",
    "    # Group by 'UniqueCarrier' to calculate the average delays and flight count\n",
    "    new_airline_data = airline_df.groupby('UniqueCarrier').agg(\n",
    "        AveArrDelay=('ArrDelay', 'mean'),\n",
    "        AveDepDelay=('DepDelay', 'mean'),\n",
    "        FlightCount=('UniqueCarrier', 'size')\n",
    "    ).reset_index()\n",
    "    \n",
    "    # scatter plot\n",
    "    fig = px.scatter(\n",
    "        new_airline_data, \n",
    "        x=\"AveArrDelay\", \n",
    "        y=\"AveDepDelay\", \n",
    "        # The size of the dots is based on the total number of flights\n",
    "        size=\"FlightCount\",  \n",
    "        # Every carriers have different color\n",
    "        color=\"UniqueCarrier\",  \n",
    "        # Show the carrier name on hover\n",
    "        hover_name=\"UniqueCarrier\",  \n",
    "        # label of the plot\n",
    "        title=\"Flight Performance: Arrival vs Departure Delay\",\n",
    "        labels={\"AveArrDelay\": \"Average Arrival Delay\", \"AveDepDelay\": \"Average Departure Delay\"},\n",
    "        size_max=60\n",
    "    )\n",
    "    \n",
    "    # Add dropdown for filtering by carriers\n",
    "    fig.update_layout(\n",
    "        # set the size of the figure\n",
    "        width = 1000,  \n",
    "        height = 600, \n",
    "        \n",
    "        updatemenus=[\n",
    "            {\n",
    "                'buttons': [\n",
    "                    {\n",
    "                        'label': 'All Carriers',\n",
    "                        'method': 'update',\n",
    "                        'args': [{'visible': [True] * len(new_airline_data)}, {'title': 'All Carriers'}]\n",
    "                    },\n",
    "                ] + [\n",
    "                    {\n",
    "                        'label': carrier,\n",
    "                        'method': 'update',\n",
    "                        'args': [\n",
    "                            {'visible': new_airline_data['UniqueCarrier'] == carrier}, \n",
    "                            {'title': f\"Carrier: {carrier}\"}\n",
    "                        ]\n",
    "                    }\n",
    "                    for carrier in new_airline_data['UniqueCarrier'].unique()\n",
    "                ],\n",
    "                \n",
    "                'direction': 'down',\n",
    "                'showactive': True,\n",
    "                'x': 1.17,\n",
    "                'y': 1.1,\n",
    "                'xanchor': 'right',\n",
    "                'yanchor': 'top'\n",
    "            }\n",
    "        ]\n",
    "    )\n",
    "    \n",
    "    # Show the figure\n",
    "    fig.show()\n",
    "\n",
    "\n",
    "\n",
    "\n",
    "# Run the function with the data\n",
    "create_interactive_plot(airline_df)\n"
   ]
  },
  {
   "cell_type": "code",
   "execution_count": null,
   "id": "5c8b4d99-bdaa-452f-adb3-d415da0d4f6e",
   "metadata": {},
   "outputs": [],
   "source": []
  }
 ],
 "metadata": {
  "kernelspec": {
   "display_name": "Python 3 (ipykernel)",
   "language": "python",
   "name": "python3"
  },
  "language_info": {
   "codemirror_mode": {
    "name": "ipython",
    "version": 3
   },
   "file_extension": ".py",
   "mimetype": "text/x-python",
   "name": "python",
   "nbconvert_exporter": "python",
   "pygments_lexer": "ipython3",
   "version": "3.12.4"
  }
 },
 "nbformat": 4,
 "nbformat_minor": 5
}
