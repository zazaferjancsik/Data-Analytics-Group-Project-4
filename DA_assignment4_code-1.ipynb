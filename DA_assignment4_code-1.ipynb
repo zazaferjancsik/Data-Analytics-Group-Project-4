{
 "cells": [
  {
   "cell_type": "markdown",
   "metadata": {},
   "source": [
    "Assignment 4: "
   ]
  },
  {
   "cell_type": "code",
   "execution_count": 3,
   "metadata": {},
   "outputs": [],
   "source": [
    "import pandas as pd\n",
    "import numpy as np\n",
    "import plotly_express as px"
   ]
  },
  {
   "cell_type": "code",
   "execution_count": 11,
   "metadata": {},
   "outputs": [
    {
     "name": "stdout",
     "output_type": "stream",
     "text": [
      "(1247486, 14)\n"
     ]
    }
   ],
   "source": [
    "airline_df = pd.read_csv(\"airlinedelaycauses_DelayedFlights.csv\")\n",
    "airline_df = airline_df.dropna(axis=0, how='any')\n",
    "airline_df.isnull().sum()\n",
    "\n",
    "airline_df = airline_df.drop(columns=['Year', 'DayofMonth', 'DepTime', 'CRSDepTime', 'ArrTime', 'CRSArrTime', 'UniqueCarrier', 'FlightNum', 'TailNum', 'ActualElapsedTime', 'CRSElapsedTime', 'TaxiIn', 'TaxiOut', 'Cancelled', 'CancellationCode', 'Diverted'])\n",
    "\n",
    "print(airline_df.shape)"
   ]
  },
  {
   "cell_type": "code",
   "execution_count": 81,
   "metadata": {},
   "outputs": [
    {
     "name": "stdout",
     "output_type": "stream",
     "text": [
      "        State Origin State Destination  Unnamed: 0  Month  DayOfWeek  AirTime  \\\n",
      "3                 IN                MD           4      1          4     77.0   \n",
      "5                 IN                NV           6      1          4    230.0   \n",
      "7                 IN                FL          11      1          4    107.0   \n",
      "9                 IN                AZ          16      1          4    213.0   \n",
      "11                IN                FL          18      1          4    110.0   \n",
      "...              ...               ...         ...    ...        ...      ...   \n",
      "1936751           GA                FL     7009705     12          6     82.0   \n",
      "1936752           AL                GA     7009709     12          6     27.0   \n",
      "1936753           MN                GA     7009710     12          6    120.0   \n",
      "1936754           VA                GA     7009717     12          6     78.0   \n",
      "1936755           GA                TX     7009718     12          6    122.0   \n",
      "\n",
      "         ArrDelay  DepDelay Origin Dest  Distance  CarrierDelay  WeatherDelay  \\\n",
      "3            34.0      34.0    IND  BWI       515           2.0           0.0   \n",
      "5            57.0      67.0    IND  LAS      1591          10.0           0.0   \n",
      "7            80.0      94.0    IND  MCO       828           8.0           0.0   \n",
      "9            15.0      27.0    IND  PHX      1489           3.0           0.0   \n",
      "11           16.0      28.0    IND  TPA       838           0.0           0.0   \n",
      "...           ...       ...    ...  ...       ...           ...           ...   \n",
      "1936751      64.0      51.0    ATL  PBI       545          51.0           0.0   \n",
      "1936752      17.0      32.0    HSV  ATL       151           0.0           0.0   \n",
      "1936753      25.0      30.0    MSP  ATL       906           3.0           0.0   \n",
      "1936754      75.0      57.0    RIC  ATL       481           0.0          57.0   \n",
      "1936755      99.0      80.0    ATL  IAH       689           1.0           0.0   \n",
      "\n",
      "         NASDelay  SecurityDelay  LateAircraftDelay  \n",
      "3             0.0            0.0               32.0  \n",
      "5             0.0            0.0               47.0  \n",
      "7             0.0            0.0               72.0  \n",
      "9             0.0            0.0               12.0  \n",
      "11            0.0            0.0               16.0  \n",
      "...           ...            ...                ...  \n",
      "1936751      13.0            0.0                0.0  \n",
      "1936752       0.0            0.0               17.0  \n",
      "1936753       0.0            0.0               22.0  \n",
      "1936754      18.0            0.0                0.0  \n",
      "1936755      19.0            0.0               79.0  \n",
      "\n",
      "[1247486 rows x 16 columns]\n"
     ]
    }
   ],
   "source": [
    "print(airline_df)"
   ]
  },
  {
   "cell_type": "code",
   "execution_count": 12,
   "metadata": {},
   "outputs": [
    {
     "name": "stdout",
     "output_type": "stream",
     "text": [
      "█ █ █ █ █ █ █ █ █ "
     ]
    }
   ],
   "source": [
    "#adding state column\n",
    "\n",
    "def get_state(iata):\n",
    "    iata_to_state = {\n",
    "    'IND': 'IN', 'ISP': 'NY', 'JAN': 'MS', 'JAX': 'FL', 'LAS': 'NV', \n",
    "    'LAX': 'CA', 'LBB': 'TX', 'LIT': 'AR', 'MAF': 'TX', 'MCI': 'MO', \n",
    "    'MCO': 'FL', 'MDW': 'IL', 'MHT': 'NH', 'MSY': 'LA', 'OAK': 'CA', \n",
    "    'OKC': 'OK', 'OMA': 'NE', 'ONT': 'CA', 'ORF': 'VA', 'PBI': 'FL', \n",
    "    'PDX': 'OR', 'PHL': 'PA', 'PHX': 'AZ', 'PIT': 'PA', 'PVD': 'RI', \n",
    "    'RDU': 'NC', 'RNO': 'NV', 'RSW': 'FL', 'SAN': 'CA', 'SAT': 'TX', \n",
    "    'SDF': 'KY', 'SEA': 'WA', 'SFO': 'CA', 'SJC': 'CA', 'SLC': 'UT', \n",
    "    'SMF': 'CA', 'SNA': 'CA', 'STL': 'MO', 'TPA': 'FL', 'TUL': 'OK',\n",
    "    'ABQ': 'NM', 'AMA': 'TX', 'AUS': 'TX', 'BHM': 'AL', 'BNA': 'TN',\n",
    "    'BOI': 'ID', 'BUF': 'NY', 'BUR': 'CA', 'BWI': 'MD', 'CMH': 'OH',\n",
    "    'CRP': 'TX', 'DAL': 'TX', 'DEN': 'CO', 'ELP': 'TX', 'FLL': 'FL',\n",
    "    'GEG': 'WA', 'HOU': 'TX', 'HRL': 'TX', 'IAD': 'VA', 'ALB': 'NY',\n",
    "    'BDL': 'CT', 'DTW': 'MI', 'CLE': 'OH', 'ORD': 'IL', 'SYR': 'NY',\n",
    "    'EWR': 'NJ', 'IAH': 'TX', 'COS': 'CO', 'MRY': 'CA', 'LGB': 'CA',\n",
    "    'FAT': 'CA', 'BFL': 'CA', 'EUG': 'OR', 'ICT': 'KS', 'MEM': 'TN',\n",
    "    'BTV': 'VT', 'MKE': 'WI', 'LFT': 'LA', 'BRO': 'TX', 'PWM': 'ME',\n",
    "    'MSP': 'MN', 'CLT': 'NC', 'CVG': 'KY', 'GSO': 'NC', 'SHV': 'LA',\n",
    "    'RIC': 'VA', 'DCA': 'DC', 'DFW': 'TX', 'BGR': 'ME', 'DAY': 'OH',\n",
    "    'GRR': 'MI', 'CRW': 'WV', 'CAE': 'SC', 'GSP': 'SC', 'XNA': 'AR',\n",
    "    'GPT': 'MS', 'LGA': 'NY', 'ATL': 'GA', 'SRQ': 'FL', 'LEX': 'KY',\n",
    "    'LRD': 'TX', 'MOB': 'AL', 'SAV': 'GA', 'MTJ': 'CO', 'MSN': 'WI',\n",
    "    'AEX': 'TX',  # Amarillo, TX\n",
    "    'PNS': 'FL',  # Pensacola, FL\n",
    "    'ROC': 'NY',  # Rochester, NY\n",
    "    'TYS': 'TN',  # Knoxville, TN\n",
    "    'HSV': 'AL',  # Huntsville, AL\n",
    "    'MFE': 'MS',  # Meridian, MS\n",
    "    'MLU': 'MO',  # Columbia, MO\n",
    "    'DSM': 'IA',  # Des Moines, IA\n",
    "    'MGM': 'MS',  # Hattiesburg, MS\n",
    "    'AVL': 'NC',  # Asheville, NC\n",
    "    'LCH': 'LA',  # Lake Charles, LA\n",
    "    'TLH': 'FL',  # Tallahassee, FL\n",
    "    'CHS': 'SC',  # Charleston, SC\n",
    "    'VPS': 'FL',  # Valparaiso, FL\n",
    "    'CLL': 'TX',  # College Station, TX\n",
    "    'GRK': 'KS',  # Goodland, KS\n",
    "    'BTR': 'LA',  # Baton Rouge, LA\n",
    "    'ABE': 'PA',  # Allentown, PA\n",
    "    'MYR': 'SC',  # Myrtle Beach, SC\n",
    "    'CHA': 'IL',  # Champaign, IL\n",
    "    'BOS': 'MA',  # Boston, MA\n",
    "    'DAB': 'FL',  # Daytona Beach, FL\n",
    "    'ASE': 'NM',  # Alamogordo, NM\n",
    "    'ATW': 'WI',  # Appleton, WI\n",
    "    'BMI': 'IL',  # Bloomington, IL\n",
    "    'CAK': 'OH',  # Akron, OH\n",
    "    'CID': 'IA',  # Cedar Rapids, IA\n",
    "    'CPR': 'CO',  # Colorado Springs, CO\n",
    "    'EGE': 'KS',  # Dodge City, KS\n",
    "    'FLG': 'MT',  # Flagler, MT\n",
    "    'FSD': 'SD',  # Sioux Falls, SD\n",
    "    'FWA': 'OH',  # Fort Wayne, IN\n",
    "    'GJT': 'CO',  # Grand Junction, CO\n",
    "    'GRB': 'WI',  # Green Bay, WI\n",
    "    'HNL': 'HI',  # Honolulu, HI\n",
    "    'KOA': 'HI',  # Keahole, HI\n",
    "    'LAN': 'CA',  # Lancaster, CA\n",
    "    'LIH': 'HI',  # Lihue, HI\n",
    "    'MBS': 'MI',  # Muskegon, MI\n",
    "    'MDT': 'PA',  # State College, PA\n",
    "    'OGG': 'HI',  # Kahului, HI\n",
    "    'PSP': 'CA',  # Palm Springs, CA\n",
    "    'RAP': 'SD',  # Rapid City, SD\n",
    "    'SBN': 'OH',  # Sandusky, OH\n",
    "    'SPI': 'IL',  # Springfield, IL\n",
    "    'TEX': 'TX',  # Texarkana, TX\n",
    "    'YUM': 'AZ',  # Yuma, AZ\n",
    "    'AVP': 'PA',  # Wilkes-Barre, PA\n",
    "    'CWA': 'IA',  # Waterloo, IA\n",
    "    'DRO': 'CA',  # Redding, CA\n",
    "    'JFK': 'NY',  # New York, NY\n",
    "    'ROA': 'NM',  # Roswell, NM\n",
    "    'TVC': 'MI',  # Traverse City, MI\n",
    "    'ITO': 'HI',  # Hilo, HI\n",
    "    'HDN': 'CO',  # Hayden, CO\n",
    "    'ILM': 'NC',  # Wilmington, NC\n",
    "    'SBA': 'CA',  # Santa Barbara, CA\n",
    "    'SBP': 'CA',  # San Luis Obispo, CA\n",
    "    'CLD': 'MT',  # Great Falls, MT\n",
    "    'MFR': 'CA',  # Medford, OR\n",
    "    'HPN': 'NY',  # Hudson Valley, NY\n",
    "    'MIA': 'FL',  # Miami, FL\n",
    "    'SGF': 'MO',  # Springfield, MO\n",
    "    'TRI': 'TN',  # Johnson City, TN\n",
    "    'SUN': 'FL',  # St. Pete, FL\n",
    "    'SGU': 'VI', # St. Croix, VI\n",
    "    'MSO': 'MT',  # Missoula, MT\n",
    "    'BZN': 'MT',  # Bozeman, MT\n",
    "    'GTF': 'MT',  # Great Falls, MT\n",
    "    'BIL': 'MT',  # Billings, MT\n",
    "    'JAC': 'OR',  # Jackson Hole, WY (Note: potentially ambiguous)\n",
    "    'MOD': 'CA',  # Modesto, CA\n",
    "    'FAR': 'ND',  # Fargo, ND\n",
    "    'GUC': 'CA',  # Eureka, CA\n",
    "    'AZO': 'MI',  # Kalamazoo, MI\n",
    "    'PIA': 'IL',  # Peoria, IL\n",
    "    'MLI': 'IL',  # Moline, IL\n",
    "    'LNK': 'NE',  # Lincoln, NE\n",
    "    'FCA': 'MI',  # Traverse City, MI (Cherry Capital Airport)\n",
    "    'IDA': 'ID', # Idaho Falls, ID\n",
    "    'PSC': 'MT', # Glasgow, MT\n",
    "    'RDM': 'OR', # Redmond, OR\n",
    "    'RDD': 'CA',  # Redding, CA\n",
    "    'TWF': 'OR', # Twin Falls, ID (Note: potentially ambiguous)\n",
    "    'SMX': 'CA',  # Santa Maria, CA\n",
    "    'ACV': 'CA',  # Arcata, CA\n",
    "    'CEC': 'CA', # Crescent City, CA\n",
    "    'CIC': 'CA', # Chico, CA\n",
    "    'PMD': 'CA', # Palmdale, CA\n",
    "    'EKO': 'WA',  # Forks, WA\n",
    "    'IYK': 'AK', # King Salmon, AK\n",
    "    'OXR': 'AK', # Fairbanks, AK\n",
    "    'IPL': 'AK', # Iliamna, AK\n",
    "    'PIH': 'AK', # Petersburg, AK\n",
    "    'BTM': 'AK', # Bethel, AK\n",
    "    'HLN': 'AK', # Unalakleet, AK\n",
    "    'BLI': 'AK', # Unalaska, AK\n",
    "    'RFD': 'AK', # Red Dog, AK\n",
    "    'COD': 'AK', # Cold Bay, AK\n",
    "    'SLE': 'AK', # St. Paul Island, AK\n",
    "    'LWS': 'WA', # Lewis County, WA\n",
    "    'BIS': 'ND', # Bismarck, ND\n",
    "    'CDC': 'CO', # Cortez, CO\n",
    "    'YKM': 'WA', # Yakima, WA\n",
    "    'SJU': 'PR', # San Juan, PR\n",
    "    'STT': 'VI', # St. Thomas, VI\n",
    "    'ANC': 'AK', # Anchorage, AK\n",
    "    'STX': 'VI', # St. Croix, VI\n",
    "    'MLB': 'FL', # Melbourne, FL\n",
    "    'PHF': 'CA', # Palm Springs, CA\n",
    "    'PFN': 'AK', # St. Paul Island, AK\n",
    "    'FAY': 'NC', # Fayetteville, NC\n",
    "    'AGS': 'GA', # Augusta, GA\n",
    "    'GNV': 'FL', # Gainesville, FL\n",
    "    'ABY': 'MS', # Aberdeen, MS\n",
    "    'DHN': 'AL', # Dothan, AL\n",
    "    'EVV': 'IN', # Evansville, IN\n",
    "    'FNT': 'MI', # Flint, MI\n",
    "    'OAJ': 'CA', # Oxnard, CA\n",
    "    'SWF': 'NY', # Stewart, NY\n",
    "    'EWN': 'NC', # New Bern, NC\n",
    "    'MEI': 'MI', # Menominee, MI\n",
    "    'GTR': 'PA', # Gettysburg, PA\n",
    "    'LYH': 'VA', # Lynchburg, VA\n",
    "    'HHH': 'HI', # Honolulu, HI\n",
    "    'EYW': 'FL', # Key West, FL\n",
    "    'VLD': 'CA', # Valdosta, GA\n",
    "    'CSG': 'GA', # Columbus, GA\n",
    "    'ACY': 'NY', # Atlantic City, NJ\n",
    "    'FSM': 'MO', # Jefferson City, MO\n",
    "    'MCN': 'NC', # Asheville, NC\n",
    "    'CHO': 'VA', # Charlottesville, VA\n",
    "    'TOL': 'OH', # Toledo, OH\n",
    "    'FLO': 'SC', # Florence, SC\n",
    "    'BQK': 'NY', # Binghamton, NY\n",
    "    'SCE': 'CA', # San Clemente Island, CA\n",
    "    'LAW': 'KS', # Lawrence, KS\n",
    "    'SPS': 'MO', # Springfield, MO\n",
    "    'ABI': 'TX', # Abilene, TX\n",
    "    'TYR': 'TX', # Tyler, TX\n",
    "    'GGG': 'GA', # Albany, GA\n",
    "    'ACT': 'AK', # Tatalina, AK\n",
    "    'SJT': 'TX', # San Angelo, TX\n",
    "    'TXK': 'TX', # Texarkana, TX\n",
    "    'CMI': 'WA', # Moses Lake, WA\n",
    "    'ROW': 'ND', # Williston, ND\n",
    "    'RST': 'MN', # Rochester, MN\n",
    "    'MQT': 'MI', # Marquette, MI\n",
    "    'LSE': 'LA', # Lafayette, LA\n",
    "    'DBQ': 'IA', # Dubuque, IA\n",
    "    'GFK': 'NY', # Griffiss, NY\n",
    "    'DLH': 'MN', # Duluth, MN\n",
    "    'MOT': 'MO', # Joplin, MO\n",
    "    'SUX': 'IA', # Sioux City, IA\n",
    "    'PLN': 'KS', # Plainview, KS\n",
    "    'BGM': 'NY', # Binghamton, NY\n",
    "    'ERI': 'PA', # Erie, PA\n",
    "    'ALO': 'OR', # Albany, OR\n",
    "    'CMX': 'MI', # Cadillac, MI\n",
    "    'RHI': 'RI', # Block Island, RI\n",
    "    'ELM': 'WA', # Ellensburg, WA\n",
    "    'KTN': 'TN', # Knoxville, TN\n",
    "    'JNU': 'AK', # Juneau, AK\n",
    "    'SIT': 'AK', # Sitka, AK\n",
    "    'PSG': 'AK', # Petersburg, AK\n",
    "    'CDV': 'AK', # Cordova, AK\n",
    "    'YAK': 'AK', # Yakutat, AK\n",
    "    'BET': 'AK', # Bethel, AK\n",
    "    'BRW': 'AK', # Barrow, AK\n",
    "    'SCC': 'AK', # Wrangell, AK\n",
    "    'FAI': 'AK', # Fairbanks, AK\n",
    "    'ADQ': 'AK', # Kodiak, AK\n",
    "    'WRG': 'AK', # Wrangell, AK\n",
    "    'OME': 'AK', # Nome, AK\n",
    "    'OTZ': 'AK', # Kotzebue, AK\n",
    "    'ADK': 'AK', # Adak Island, AK\n",
    "    'PSE': 'PR', # Ponce, PR\n",
    "    'BQN': 'PR', # Aguadilla, PR\n",
    "    'BPT': 'TX', # Beaumont, TX\n",
    "    'RKS': 'KS', # Pittsburg, KS\n",
    "    'GCC': 'KS', # Garden City, KS\n",
    "    'MKG': 'KY', # Lexington, KY\n",
    "    'DLG': 'AK', # Dillingham, AK\n",
    "    'AKN': 'AK', # King Salmon, AK\n",
    "    'LWB': 'TX', # Lubbock, TX\n",
    "    'ACK': 'MA', # Nantucket, MA\n",
    "    'WYS': 'WY', # Cheyenne, WY\n",
    "    'BJI': 'AK', # Big Lake, AK\n",
    "    'INL': 'ID', # Pocatello, ID\n",
    "    'GST': 'CA', # Grants Pass, OR (Note: Potentially ambiguous)\n",
    "    'PUB': 'CA', # Puebla, CA\n",
    "    'OTH': 'KS', # Goodland, KS\n",
    "    'LMT': 'MT', # Lewistown, MT\n",
    "    'ITH': 'NY', # Ithaca, NY\n",
    "    'HTS': 'CA', # Hemet, CA\n",
    "    'PIR': 'OR', # Newport, OR\n",
    "    }\n",
    "    return iata_to_state.get(iata.upper())\n",
    "    \n",
    "zeros = [[0]] * len(airline_df)\n",
    "if \"State Origin\" not in airline_df:\n",
    "    airline_df.insert(0, \"State Origin\", zeros, False)\n",
    "    airline_df.insert(1, \"State Destination\", zeros, False)\n",
    "\n",
    "airline_df['State Origin'] = airline_df['Origin'].apply(get_state)\n",
    "airline_df['State Destination'] = airline_df['Dest'].apply(get_state)\n",
    "                "
   ]
  },
  {
   "cell_type": "code",
   "execution_count": 29,
   "metadata": {},
   "outputs": [
    {
     "name": "stdout",
     "output_type": "stream",
     "text": [
      "   State  Average Departure Delay  Average Arrival Delay  Total Average Delay\n",
      "0     AK                58.533157              55.093419                113.6\n",
      "1     AL                61.580058              56.594010                118.2\n",
      "2     AR                68.157151              60.120191                128.3\n",
      "3     AZ                52.891434              55.686983                108.6\n",
      "4     CA                58.653006              57.961924                116.6\n",
      "5     CO                53.509868              58.598764                112.1\n",
      "6     CT                63.929078              57.897621                121.8\n",
      "7     DC                59.636792              58.486672                118.1\n",
      "8     FL                62.706780              60.902803                123.6\n",
      "9     GA                55.379658              68.933423                124.3\n",
      "10    HI                52.957355              56.577866                109.5\n",
      "11    IA                69.117285              59.239404                128.4\n",
      "12    ID                62.797736              53.250512                116.0\n",
      "13    IL                64.243044              76.696323                140.9\n",
      "14    IN                61.644861              58.552002                120.2\n",
      "15    KS                69.319843              59.272831                128.6\n",
      "16    KY                57.002359              62.722632                119.7\n",
      "17    LA                61.534350              56.341789                117.9\n",
      "18    MA                65.880876              69.799548                135.7\n",
      "19    MD                58.303323              59.539531                117.8\n",
      "20    ME                74.969110              65.660296                140.6\n",
      "21    MI                55.175508              65.402063                120.6\n",
      "22    MN                50.813840              67.624665                118.4\n",
      "23    MO                60.986857              56.350388                117.3\n",
      "24    MS                65.410380              57.185018                122.6\n",
      "25    MT                60.340356              54.639943                115.0\n",
      "26    NC                58.398161              60.714227                119.1\n",
      "27    ND                65.525801              54.376790                119.9\n",
      "28    NE                68.304041              58.121424                126.4\n",
      "29    NH                69.743950              61.313865                131.1\n",
      "30    NJ                66.903918              81.079490                148.0\n",
      "31    NM                57.024900              54.056087                111.1\n",
      "32    NV                58.186066              56.168179                114.4\n",
      "33    NY                66.282342              70.686034                137.0\n",
      "34    OH                65.305448              62.649716                128.0\n",
      "35    OK                61.030286              56.900412                117.9\n",
      "36    OR                60.757751              56.571679                117.3\n",
      "37    PA                67.296081              67.536166                134.8\n",
      "38    PR                71.910429              67.547152                139.5\n",
      "39    RI                67.643731              60.790844                128.4\n",
      "40    SC                70.164185              63.895945                134.1\n",
      "41    SD                72.276231              60.141336                132.4\n",
      "42    TN                60.049769              61.288049                121.3\n",
      "43    TX                53.545236              60.895681                114.4\n",
      "44    UT                52.712070              57.864946                110.6\n",
      "45    VA                69.482964              67.714286                137.2\n",
      "46    VI                57.484465              55.954457                113.4\n",
      "47    VT                74.428787              69.514915                143.9\n",
      "48    WA                54.789804              56.252418                111.0\n",
      "49    WI                64.701399              61.123418                125.8\n",
      "50    WV                69.293358              66.883096                136.2\n",
      "51    WY                58.333333              44.812500                103.1\n"
     ]
    }
   ],
   "source": [
    "arrival_delays = airline_df.groupby('State Destination')['ArrDelay'].mean().reset_index()\n",
    "departure_delays = airline_df.groupby('State Origin')['DepDelay'].mean().reset_index()\n",
    "\n",
    "arrival_delays.columns = ['State', 'Average Arrival Delay']\n",
    "departure_delays.columns = ['State', 'Average Departure Delay']\n",
    "\n",
    "state_delay_df = pd.merge(departure_delays, arrival_delays, on='State', how='outer').fillna(0)\n",
    "state_delay_df['Total Average Delay'] = round(state_delay_df['Average Arrival Delay'] + state_delay_df['Average Departure Delay'], 1)\n",
    "\n",
    "print(state_delay_df)\n"
   ]
  },
  {
   "cell_type": "code",
   "execution_count": 30,
   "metadata": {},
   "outputs": [
    {
     "data": {
      "application/vnd.plotly.v1+json": {
       "config": {
        "plotlyServerURL": "https://plot.ly"
       },
       "data": [
        {
         "coloraxis": "coloraxis",
         "geo": "geo",
         "hovertemplate": "State=%{location}<br>Average Delay (min)=%{z}<extra></extra>",
         "locationmode": "USA-states",
         "locations": [
          "AK",
          "AL",
          "AR",
          "AZ",
          "CA",
          "CO",
          "CT",
          "DC",
          "FL",
          "GA",
          "HI",
          "IA",
          "ID",
          "IL",
          "IN",
          "KS",
          "KY",
          "LA",
          "MA",
          "MD",
          "ME",
          "MI",
          "MN",
          "MO",
          "MS",
          "MT",
          "NC",
          "ND",
          "NE",
          "NH",
          "NJ",
          "NM",
          "NV",
          "NY",
          "OH",
          "OK",
          "OR",
          "PA",
          "PR",
          "RI",
          "SC",
          "SD",
          "TN",
          "TX",
          "UT",
          "VA",
          "VI",
          "VT",
          "WA",
          "WI",
          "WV",
          "WY"
         ],
         "name": "",
         "type": "choropleth",
         "z": [
          113.6,
          118.2,
          128.3,
          108.6,
          116.6,
          112.1,
          121.8,
          118.1,
          123.6,
          124.3,
          109.5,
          128.4,
          116,
          140.9,
          120.2,
          128.6,
          119.7,
          117.9,
          135.7,
          117.8,
          140.6,
          120.6,
          118.4,
          117.3,
          122.6,
          115,
          119.1,
          119.9,
          126.4,
          131.1,
          148,
          111.1,
          114.4,
          137,
          128,
          117.9,
          117.3,
          134.8,
          139.5,
          128.4,
          134.1,
          132.4,
          121.3,
          114.4,
          110.6,
          137.2,
          113.4,
          143.9,
          111,
          125.8,
          136.2,
          103.1
         ]
        }
       ],
       "layout": {
        "coloraxis": {
         "colorbar": {
          "title": {
           "text": "Average Delay (min)"
          }
         },
         "colorscale": [
          [
           0,
           "rgb(0, 147, 146)"
          ],
          [
           0.16666666666666666,
           "rgb(57, 177, 133)"
          ],
          [
           0.3333333333333333,
           "rgb(156, 203, 134)"
          ],
          [
           0.5,
           "rgb(233, 226, 156)"
          ],
          [
           0.6666666666666666,
           "rgb(238, 180, 121)"
          ],
          [
           0.8333333333333334,
           "rgb(232, 132, 113)"
          ],
          [
           1,
           "rgb(207, 89, 126)"
          ]
         ]
        },
        "geo": {
         "center": {},
         "domain": {
          "x": [
           0,
           1
          ],
          "y": [
           0,
           1
          ]
         },
         "scope": "usa"
        },
        "legend": {
         "tracegroupgap": 0
        },
        "template": {
         "data": {
          "bar": [
           {
            "error_x": {
             "color": "#2a3f5f"
            },
            "error_y": {
             "color": "#2a3f5f"
            },
            "marker": {
             "line": {
              "color": "#E5ECF6",
              "width": 0.5
             },
             "pattern": {
              "fillmode": "overlay",
              "size": 10,
              "solidity": 0.2
             }
            },
            "type": "bar"
           }
          ],
          "barpolar": [
           {
            "marker": {
             "line": {
              "color": "#E5ECF6",
              "width": 0.5
             },
             "pattern": {
              "fillmode": "overlay",
              "size": 10,
              "solidity": 0.2
             }
            },
            "type": "barpolar"
           }
          ],
          "carpet": [
           {
            "aaxis": {
             "endlinecolor": "#2a3f5f",
             "gridcolor": "white",
             "linecolor": "white",
             "minorgridcolor": "white",
             "startlinecolor": "#2a3f5f"
            },
            "baxis": {
             "endlinecolor": "#2a3f5f",
             "gridcolor": "white",
             "linecolor": "white",
             "minorgridcolor": "white",
             "startlinecolor": "#2a3f5f"
            },
            "type": "carpet"
           }
          ],
          "choropleth": [
           {
            "colorbar": {
             "outlinewidth": 0,
             "ticks": ""
            },
            "type": "choropleth"
           }
          ],
          "contour": [
           {
            "colorbar": {
             "outlinewidth": 0,
             "ticks": ""
            },
            "colorscale": [
             [
              0,
              "#0d0887"
             ],
             [
              0.1111111111111111,
              "#46039f"
             ],
             [
              0.2222222222222222,
              "#7201a8"
             ],
             [
              0.3333333333333333,
              "#9c179e"
             ],
             [
              0.4444444444444444,
              "#bd3786"
             ],
             [
              0.5555555555555556,
              "#d8576b"
             ],
             [
              0.6666666666666666,
              "#ed7953"
             ],
             [
              0.7777777777777778,
              "#fb9f3a"
             ],
             [
              0.8888888888888888,
              "#fdca26"
             ],
             [
              1,
              "#f0f921"
             ]
            ],
            "type": "contour"
           }
          ],
          "contourcarpet": [
           {
            "colorbar": {
             "outlinewidth": 0,
             "ticks": ""
            },
            "type": "contourcarpet"
           }
          ],
          "heatmap": [
           {
            "colorbar": {
             "outlinewidth": 0,
             "ticks": ""
            },
            "colorscale": [
             [
              0,
              "#0d0887"
             ],
             [
              0.1111111111111111,
              "#46039f"
             ],
             [
              0.2222222222222222,
              "#7201a8"
             ],
             [
              0.3333333333333333,
              "#9c179e"
             ],
             [
              0.4444444444444444,
              "#bd3786"
             ],
             [
              0.5555555555555556,
              "#d8576b"
             ],
             [
              0.6666666666666666,
              "#ed7953"
             ],
             [
              0.7777777777777778,
              "#fb9f3a"
             ],
             [
              0.8888888888888888,
              "#fdca26"
             ],
             [
              1,
              "#f0f921"
             ]
            ],
            "type": "heatmap"
           }
          ],
          "heatmapgl": [
           {
            "colorbar": {
             "outlinewidth": 0,
             "ticks": ""
            },
            "colorscale": [
             [
              0,
              "#0d0887"
             ],
             [
              0.1111111111111111,
              "#46039f"
             ],
             [
              0.2222222222222222,
              "#7201a8"
             ],
             [
              0.3333333333333333,
              "#9c179e"
             ],
             [
              0.4444444444444444,
              "#bd3786"
             ],
             [
              0.5555555555555556,
              "#d8576b"
             ],
             [
              0.6666666666666666,
              "#ed7953"
             ],
             [
              0.7777777777777778,
              "#fb9f3a"
             ],
             [
              0.8888888888888888,
              "#fdca26"
             ],
             [
              1,
              "#f0f921"
             ]
            ],
            "type": "heatmapgl"
           }
          ],
          "histogram": [
           {
            "marker": {
             "pattern": {
              "fillmode": "overlay",
              "size": 10,
              "solidity": 0.2
             }
            },
            "type": "histogram"
           }
          ],
          "histogram2d": [
           {
            "colorbar": {
             "outlinewidth": 0,
             "ticks": ""
            },
            "colorscale": [
             [
              0,
              "#0d0887"
             ],
             [
              0.1111111111111111,
              "#46039f"
             ],
             [
              0.2222222222222222,
              "#7201a8"
             ],
             [
              0.3333333333333333,
              "#9c179e"
             ],
             [
              0.4444444444444444,
              "#bd3786"
             ],
             [
              0.5555555555555556,
              "#d8576b"
             ],
             [
              0.6666666666666666,
              "#ed7953"
             ],
             [
              0.7777777777777778,
              "#fb9f3a"
             ],
             [
              0.8888888888888888,
              "#fdca26"
             ],
             [
              1,
              "#f0f921"
             ]
            ],
            "type": "histogram2d"
           }
          ],
          "histogram2dcontour": [
           {
            "colorbar": {
             "outlinewidth": 0,
             "ticks": ""
            },
            "colorscale": [
             [
              0,
              "#0d0887"
             ],
             [
              0.1111111111111111,
              "#46039f"
             ],
             [
              0.2222222222222222,
              "#7201a8"
             ],
             [
              0.3333333333333333,
              "#9c179e"
             ],
             [
              0.4444444444444444,
              "#bd3786"
             ],
             [
              0.5555555555555556,
              "#d8576b"
             ],
             [
              0.6666666666666666,
              "#ed7953"
             ],
             [
              0.7777777777777778,
              "#fb9f3a"
             ],
             [
              0.8888888888888888,
              "#fdca26"
             ],
             [
              1,
              "#f0f921"
             ]
            ],
            "type": "histogram2dcontour"
           }
          ],
          "mesh3d": [
           {
            "colorbar": {
             "outlinewidth": 0,
             "ticks": ""
            },
            "type": "mesh3d"
           }
          ],
          "parcoords": [
           {
            "line": {
             "colorbar": {
              "outlinewidth": 0,
              "ticks": ""
             }
            },
            "type": "parcoords"
           }
          ],
          "pie": [
           {
            "automargin": true,
            "type": "pie"
           }
          ],
          "scatter": [
           {
            "fillpattern": {
             "fillmode": "overlay",
             "size": 10,
             "solidity": 0.2
            },
            "type": "scatter"
           }
          ],
          "scatter3d": [
           {
            "line": {
             "colorbar": {
              "outlinewidth": 0,
              "ticks": ""
             }
            },
            "marker": {
             "colorbar": {
              "outlinewidth": 0,
              "ticks": ""
             }
            },
            "type": "scatter3d"
           }
          ],
          "scattercarpet": [
           {
            "marker": {
             "colorbar": {
              "outlinewidth": 0,
              "ticks": ""
             }
            },
            "type": "scattercarpet"
           }
          ],
          "scattergeo": [
           {
            "marker": {
             "colorbar": {
              "outlinewidth": 0,
              "ticks": ""
             }
            },
            "type": "scattergeo"
           }
          ],
          "scattergl": [
           {
            "marker": {
             "colorbar": {
              "outlinewidth": 0,
              "ticks": ""
             }
            },
            "type": "scattergl"
           }
          ],
          "scattermapbox": [
           {
            "marker": {
             "colorbar": {
              "outlinewidth": 0,
              "ticks": ""
             }
            },
            "type": "scattermapbox"
           }
          ],
          "scatterpolar": [
           {
            "marker": {
             "colorbar": {
              "outlinewidth": 0,
              "ticks": ""
             }
            },
            "type": "scatterpolar"
           }
          ],
          "scatterpolargl": [
           {
            "marker": {
             "colorbar": {
              "outlinewidth": 0,
              "ticks": ""
             }
            },
            "type": "scatterpolargl"
           }
          ],
          "scatterternary": [
           {
            "marker": {
             "colorbar": {
              "outlinewidth": 0,
              "ticks": ""
             }
            },
            "type": "scatterternary"
           }
          ],
          "surface": [
           {
            "colorbar": {
             "outlinewidth": 0,
             "ticks": ""
            },
            "colorscale": [
             [
              0,
              "#0d0887"
             ],
             [
              0.1111111111111111,
              "#46039f"
             ],
             [
              0.2222222222222222,
              "#7201a8"
             ],
             [
              0.3333333333333333,
              "#9c179e"
             ],
             [
              0.4444444444444444,
              "#bd3786"
             ],
             [
              0.5555555555555556,
              "#d8576b"
             ],
             [
              0.6666666666666666,
              "#ed7953"
             ],
             [
              0.7777777777777778,
              "#fb9f3a"
             ],
             [
              0.8888888888888888,
              "#fdca26"
             ],
             [
              1,
              "#f0f921"
             ]
            ],
            "type": "surface"
           }
          ],
          "table": [
           {
            "cells": {
             "fill": {
              "color": "#EBF0F8"
             },
             "line": {
              "color": "white"
             }
            },
            "header": {
             "fill": {
              "color": "#C8D4E3"
             },
             "line": {
              "color": "white"
             }
            },
            "type": "table"
           }
          ]
         },
         "layout": {
          "annotationdefaults": {
           "arrowcolor": "#2a3f5f",
           "arrowhead": 0,
           "arrowwidth": 1
          },
          "autotypenumbers": "strict",
          "coloraxis": {
           "colorbar": {
            "outlinewidth": 0,
            "ticks": ""
           }
          },
          "colorscale": {
           "diverging": [
            [
             0,
             "#8e0152"
            ],
            [
             0.1,
             "#c51b7d"
            ],
            [
             0.2,
             "#de77ae"
            ],
            [
             0.3,
             "#f1b6da"
            ],
            [
             0.4,
             "#fde0ef"
            ],
            [
             0.5,
             "#f7f7f7"
            ],
            [
             0.6,
             "#e6f5d0"
            ],
            [
             0.7,
             "#b8e186"
            ],
            [
             0.8,
             "#7fbc41"
            ],
            [
             0.9,
             "#4d9221"
            ],
            [
             1,
             "#276419"
            ]
           ],
           "sequential": [
            [
             0,
             "#0d0887"
            ],
            [
             0.1111111111111111,
             "#46039f"
            ],
            [
             0.2222222222222222,
             "#7201a8"
            ],
            [
             0.3333333333333333,
             "#9c179e"
            ],
            [
             0.4444444444444444,
             "#bd3786"
            ],
            [
             0.5555555555555556,
             "#d8576b"
            ],
            [
             0.6666666666666666,
             "#ed7953"
            ],
            [
             0.7777777777777778,
             "#fb9f3a"
            ],
            [
             0.8888888888888888,
             "#fdca26"
            ],
            [
             1,
             "#f0f921"
            ]
           ],
           "sequentialminus": [
            [
             0,
             "#0d0887"
            ],
            [
             0.1111111111111111,
             "#46039f"
            ],
            [
             0.2222222222222222,
             "#7201a8"
            ],
            [
             0.3333333333333333,
             "#9c179e"
            ],
            [
             0.4444444444444444,
             "#bd3786"
            ],
            [
             0.5555555555555556,
             "#d8576b"
            ],
            [
             0.6666666666666666,
             "#ed7953"
            ],
            [
             0.7777777777777778,
             "#fb9f3a"
            ],
            [
             0.8888888888888888,
             "#fdca26"
            ],
            [
             1,
             "#f0f921"
            ]
           ]
          },
          "colorway": [
           "#636efa",
           "#EF553B",
           "#00cc96",
           "#ab63fa",
           "#FFA15A",
           "#19d3f3",
           "#FF6692",
           "#B6E880",
           "#FF97FF",
           "#FECB52"
          ],
          "font": {
           "color": "#2a3f5f"
          },
          "geo": {
           "bgcolor": "white",
           "lakecolor": "white",
           "landcolor": "#E5ECF6",
           "showlakes": true,
           "showland": true,
           "subunitcolor": "white"
          },
          "hoverlabel": {
           "align": "left"
          },
          "hovermode": "closest",
          "mapbox": {
           "style": "light"
          },
          "paper_bgcolor": "white",
          "plot_bgcolor": "#E5ECF6",
          "polar": {
           "angularaxis": {
            "gridcolor": "white",
            "linecolor": "white",
            "ticks": ""
           },
           "bgcolor": "#E5ECF6",
           "radialaxis": {
            "gridcolor": "white",
            "linecolor": "white",
            "ticks": ""
           }
          },
          "scene": {
           "xaxis": {
            "backgroundcolor": "#E5ECF6",
            "gridcolor": "white",
            "gridwidth": 2,
            "linecolor": "white",
            "showbackground": true,
            "ticks": "",
            "zerolinecolor": "white"
           },
           "yaxis": {
            "backgroundcolor": "#E5ECF6",
            "gridcolor": "white",
            "gridwidth": 2,
            "linecolor": "white",
            "showbackground": true,
            "ticks": "",
            "zerolinecolor": "white"
           },
           "zaxis": {
            "backgroundcolor": "#E5ECF6",
            "gridcolor": "white",
            "gridwidth": 2,
            "linecolor": "white",
            "showbackground": true,
            "ticks": "",
            "zerolinecolor": "white"
           }
          },
          "shapedefaults": {
           "line": {
            "color": "#2a3f5f"
           }
          },
          "ternary": {
           "aaxis": {
            "gridcolor": "white",
            "linecolor": "white",
            "ticks": ""
           },
           "baxis": {
            "gridcolor": "white",
            "linecolor": "white",
            "ticks": ""
           },
           "bgcolor": "#E5ECF6",
           "caxis": {
            "gridcolor": "white",
            "linecolor": "white",
            "ticks": ""
           }
          },
          "title": {
           "x": 0.05
          },
          "xaxis": {
           "automargin": true,
           "gridcolor": "white",
           "linecolor": "white",
           "ticks": "",
           "title": {
            "standoff": 15
           },
           "zerolinecolor": "white",
           "zerolinewidth": 2
          },
          "yaxis": {
           "automargin": true,
           "gridcolor": "white",
           "linecolor": "white",
           "ticks": "",
           "title": {
            "standoff": 15
           },
           "zerolinecolor": "white",
           "zerolinewidth": 2
          }
         }
        },
        "title": {
         "text": "Total Average Delay by State"
        }
       }
      }
     },
     "metadata": {},
     "output_type": "display_data"
    }
   ],
   "source": [
    "map_fig = px.choropleth(\n",
    "    state_delay_df,\n",
    "    locations='State', \n",
    "    locationmode='USA-states',\n",
    "    color='Total Average Delay',   \n",
    "    scope='usa',  \n",
    "    color_continuous_scale='temps',\n",
    "    title='Total Average Delay by State',\n",
    "    labels={'Total Average Delay': 'Average Delay (min)'}\n",
    ")\n",
    "\n",
    "map_fig.show()"
   ]
  },
  {
   "cell_type": "code",
   "execution_count": 89,
   "metadata": {},
   "outputs": [
    {
     "name": "stdout",
     "output_type": "stream",
     "text": [
      "['PA' 'TX' 'NM' 'MS' 'MA' 'AK' 'CA' 'NY' 'GA' 'OR' 'WI' 'NC' 'MI' 'CT'\n",
      " 'ME' 'AL' 'MT' 'ND' 'IL' 'TN' 'ID' 'PR' 'LA' 'VT' 'MD' 'SC' 'OH' 'CO'\n",
      " 'VA' 'IA' 'WA' 'WV' 'KY' 'FL' 'DC' 'MN' 'KS' 'IN' 'NJ' 'SD' 'MO' 'HI'\n",
      " 'NV' 'AR' 'NE' 'NH' 'OK' 'AZ' 'RI' 'VI' 'UT' None 'WY']\n",
      "    Airport  AveDepDelay  FlightCount_Dep  AveArrDelay  FlightCount_Arr  \\\n",
      "200     MSY    58.530239             6399    55.773882             7045   \n",
      "\n",
      "     TotalFlightCount State  \n",
      "200             13444    LA  \n"
     ]
    },
    {
     "ename": "ValueError",
     "evalue": "The truth value of a Series is ambiguous. Use a.empty, a.bool(), a.item(), a.any() or a.all().",
     "output_type": "error",
     "traceback": [
      "\u001b[0;31m---------------------------------------------------------------------------\u001b[0m",
      "\u001b[0;31mValueError\u001b[0m                                Traceback (most recent call last)",
      "\u001b[0;32m/var/folders/0k/1dtmj8756ps3ykn3lkd5fhqc0000gn/T/ipykernel_19537/3169947596.py\u001b[0m in \u001b[0;36m?\u001b[0;34m()\u001b[0m\n\u001b[1;32m     93\u001b[0m \u001b[0;34m\u001b[0m\u001b[0m\n\u001b[1;32m     94\u001b[0m     \u001b[0mfig\u001b[0m\u001b[0;34m.\u001b[0m\u001b[0mshow\u001b[0m\u001b[0;34m(\u001b[0m\u001b[0;34m)\u001b[0m\u001b[0;34m\u001b[0m\u001b[0;34m\u001b[0m\u001b[0m\n\u001b[1;32m     95\u001b[0m \u001b[0;34m\u001b[0m\u001b[0m\n\u001b[1;32m     96\u001b[0m \u001b[0;34m\u001b[0m\u001b[0m\n\u001b[0;32m---> 97\u001b[0;31m \u001b[0mcreate_interactive_plot\u001b[0m\u001b[0;34m(\u001b[0m\u001b[0mairline_df\u001b[0m\u001b[0;34m)\u001b[0m\u001b[0;34m\u001b[0m\u001b[0;34m\u001b[0m\u001b[0m\n\u001b[0m",
      "\u001b[0;32m/var/folders/0k/1dtmj8756ps3ykn3lkd5fhqc0000gn/T/ipykernel_19537/3169947596.py\u001b[0m in \u001b[0;36m?\u001b[0;34m(airline_df)\u001b[0m\n\u001b[1;32m     86\u001b[0m         \u001b[0mnum_list\u001b[0m \u001b[0;34m=\u001b[0m\u001b[0;34m[\u001b[0m\u001b[0;34m]\u001b[0m\u001b[0;34m\u001b[0m\u001b[0;34m\u001b[0m\u001b[0m\n\u001b[1;32m     87\u001b[0m         \u001b[0;32mfor\u001b[0m \u001b[0mi\u001b[0m \u001b[0;32min\u001b[0m \u001b[0mrange\u001b[0m\u001b[0;34m(\u001b[0m\u001b[0mlen\u001b[0m\u001b[0;34m(\u001b[0m\u001b[0mnew_airport_data\u001b[0m\u001b[0;34m)\u001b[0m\u001b[0;34m)\u001b[0m\u001b[0;34m:\u001b[0m\u001b[0;34m\u001b[0m\u001b[0;34m\u001b[0m\u001b[0m\n\u001b[1;32m     88\u001b[0m             \u001b[0mboo_list\u001b[0m\u001b[0;34m.\u001b[0m\u001b[0mappend\u001b[0m\u001b[0;34m(\u001b[0m\u001b[0mnew_airport_data\u001b[0m\u001b[0;34m[\u001b[0m\u001b[0;34m'State'\u001b[0m\u001b[0;34m]\u001b[0m \u001b[0;34m==\u001b[0m \u001b[0mstate\u001b[0m\u001b[0;34m)\u001b[0m\u001b[0;34m\u001b[0m\u001b[0;34m\u001b[0m\u001b[0m\n\u001b[1;32m     89\u001b[0m         \u001b[0;32mfor\u001b[0m \u001b[0mj\u001b[0m \u001b[0;32min\u001b[0m \u001b[0mrange\u001b[0m\u001b[0;34m(\u001b[0m\u001b[0mlen\u001b[0m\u001b[0;34m(\u001b[0m\u001b[0mboo_list\u001b[0m\u001b[0;34m)\u001b[0m\u001b[0;34m)\u001b[0m\u001b[0;34m:\u001b[0m\u001b[0;34m\u001b[0m\u001b[0;34m\u001b[0m\u001b[0m\n\u001b[0;32m---> 90\u001b[0;31m             \u001b[0;32mif\u001b[0m \u001b[0mboo_list\u001b[0m\u001b[0;34m[\u001b[0m\u001b[0mj\u001b[0m\u001b[0;34m]\u001b[0m \u001b[0;34m==\u001b[0m \u001b[0;32mTrue\u001b[0m\u001b[0;34m:\u001b[0m\u001b[0;34m\u001b[0m\u001b[0;34m\u001b[0m\u001b[0m\n\u001b[0m\u001b[1;32m     91\u001b[0m                 \u001b[0mnum_list\u001b[0m\u001b[0;34m.\u001b[0m\u001b[0mappend\u001b[0m\u001b[0;34m(\u001b[0m\u001b[0mj\u001b[0m\u001b[0;34m)\u001b[0m\u001b[0;34m\u001b[0m\u001b[0;34m\u001b[0m\u001b[0m\n\u001b[1;32m     92\u001b[0m         \u001b[0mprint\u001b[0m\u001b[0;34m(\u001b[0m\u001b[0mnum_list\u001b[0m\u001b[0;34m)\u001b[0m\u001b[0;34m\u001b[0m\u001b[0;34m\u001b[0m\u001b[0m\n\u001b[1;32m     93\u001b[0m \u001b[0;34m\u001b[0m\u001b[0m\n",
      "\u001b[0;32m/Library/Frameworks/Python.framework/Versions/3.12/lib/python3.12/site-packages/pandas/core/generic.py\u001b[0m in \u001b[0;36m?\u001b[0;34m(self)\u001b[0m\n\u001b[1;32m   1575\u001b[0m     \u001b[0;34m@\u001b[0m\u001b[0mfinal\u001b[0m\u001b[0;34m\u001b[0m\u001b[0;34m\u001b[0m\u001b[0m\n\u001b[1;32m   1576\u001b[0m     \u001b[0;32mdef\u001b[0m \u001b[0m__nonzero__\u001b[0m\u001b[0;34m(\u001b[0m\u001b[0mself\u001b[0m\u001b[0;34m)\u001b[0m \u001b[0;34m->\u001b[0m \u001b[0mNoReturn\u001b[0m\u001b[0;34m:\u001b[0m\u001b[0;34m\u001b[0m\u001b[0;34m\u001b[0m\u001b[0m\n\u001b[0;32m-> 1577\u001b[0;31m         raise ValueError(\n\u001b[0m\u001b[1;32m   1578\u001b[0m             \u001b[0;34mf\"\u001b[0m\u001b[0;34mThe truth value of a \u001b[0m\u001b[0;34m{\u001b[0m\u001b[0mtype\u001b[0m\u001b[0;34m(\u001b[0m\u001b[0mself\u001b[0m\u001b[0;34m)\u001b[0m\u001b[0;34m.\u001b[0m\u001b[0m__name__\u001b[0m\u001b[0;34m}\u001b[0m\u001b[0;34m is ambiguous. \u001b[0m\u001b[0;34m\"\u001b[0m\u001b[0;34m\u001b[0m\u001b[0;34m\u001b[0m\u001b[0m\n\u001b[1;32m   1579\u001b[0m             \u001b[0;34m\"Use a.empty, a.bool(), a.item(), a.any() or a.all().\"\u001b[0m\u001b[0;34m\u001b[0m\u001b[0;34m\u001b[0m\u001b[0m\n\u001b[1;32m   1580\u001b[0m         \u001b[0;34m)\u001b[0m\u001b[0;34m\u001b[0m\u001b[0;34m\u001b[0m\u001b[0m\n",
      "\u001b[0;31mValueError\u001b[0m: The truth value of a Series is ambiguous. Use a.empty, a.bool(), a.item(), a.any() or a.all()."
     ]
    }
   ],
   "source": [
    "def create_interactive_plot(airline_df):\n",
    "    new_DepAirport_data = airline_df.groupby('Origin').agg(\n",
    "        AveDepDelay=('DepDelay', 'mean'),\n",
    "        FlightCount_Dep=('Origin', 'size')\n",
    "    ).reset_index()\n",
    "    new_DepAirport_data.rename(columns={'Origin': 'Airport'}, inplace=True)\n",
    "    \n",
    "    new_ArrAirport_data = airline_df.groupby('Dest').agg( \n",
    "        AveArrDelay=('ArrDelay', 'mean'),\n",
    "        FlightCount_Arr=('Dest', 'size') \n",
    "    ).reset_index() \n",
    "    new_ArrAirport_data.rename(columns={'Dest': 'Airport'}, inplace=True)\n",
    "    \n",
    "    new_airport_data = pd.merge(\n",
    "        new_DepAirport_data, \n",
    "        new_ArrAirport_data, \n",
    "        on='Airport', \n",
    "        how='inner'  \n",
    "    )\n",
    "\n",
    "    new_airport_data['TotalFlightCount'] = new_airport_data['FlightCount_Dep'] + new_airport_data['FlightCount_Arr']\n",
    "    new_airport_data['State'] = new_airport_data['Airport'].apply(get_state)\n",
    "    \n",
    "    fig = px.scatter(\n",
    "        new_airport_data, \n",
    "        x=\"AveArrDelay\", \n",
    "        y=\"AveDepDelay\", \n",
    "        size=\"TotalFlightCount\",  \n",
    "        color=\"State\",  \n",
    "        hover_name=\"Airport\",  \n",
    "        title=\"Airport Performance: Arrival vs Departure Delay\",\n",
    "        labels={\"AveArrDelay\": \"Average Arrival Delay\", \"AveDepDelay\": \"Average Departure Delay\"},\n",
    "        size_max=60\n",
    "    )\n",
    "    \n",
    "    fig.update_layout(\n",
    "        width = 1000,  \n",
    "        height = 600, \n",
    "\n",
    "        xaxis=dict(\n",
    "            title=\"Average Arrival Delay (Minutes)\",\n",
    "            range=[30, 100],\n",
    "              \n",
    "        ),\n",
    "        yaxis=dict(\n",
    "            title=\"Average Departure Delay (Minutes)\",\n",
    "            range=[30, 100]  \n",
    "        ),\n",
    "        \n",
    "        updatemenus=[\n",
    "            {\n",
    "                'buttons': [\n",
    "                    {\n",
    "                        'label': 'All Airports',\n",
    "                        'method': 'update',\n",
    "                        'args': [{'visible': [True] * len(new_airport_data)}, {'title': 'All Airport'}]\n",
    "                    },\n",
    "                ] + [\n",
    "                    {\n",
    "                        'label': state,\n",
    "                        'method': 'update',\n",
    "                        'args': [\n",
    "                            {'visible': new_airport_data['State'] == state}, \n",
    "                            {'title': f\"Airport: {state}\"}\n",
    "                        ]\n",
    "                    }\n",
    "                    for state in new_airport_data['State'].unique()\n",
    "                    \n",
    "                ],\n",
    "                \n",
    "                'direction': 'down',\n",
    "                'showactive': True,\n",
    "                'x': 1.17,\n",
    "                'y': 1.1,\n",
    "                'xanchor': 'right',\n",
    "                'yanchor': 'top'\n",
    "            }\n",
    "        ]\n",
    "    )\n",
    "    \n",
    "\n",
    "create_interactive_plot(airline_df)\n"
   ]
  }
 ],
 "metadata": {
  "kernelspec": {
   "display_name": "Python 3",
   "language": "python",
   "name": "python3"
  },
  "language_info": {
   "codemirror_mode": {
    "name": "ipython",
    "version": 3
   },
   "file_extension": ".py",
   "mimetype": "text/x-python",
   "name": "python",
   "nbconvert_exporter": "python",
   "pygments_lexer": "ipython3",
   "version": "3.12.7"
  }
 },
 "nbformat": 4,
 "nbformat_minor": 2
}
