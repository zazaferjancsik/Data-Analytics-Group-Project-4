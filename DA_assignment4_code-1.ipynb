{
 "cells": [
  {
   "cell_type": "markdown",
   "metadata": {},
   "source": [
    "Assignment 4: "
   ]
  },
  {
   "cell_type": "code",
   "execution_count": 89,
   "metadata": {},
   "outputs": [],
   "source": [
    "import pandas as pd\n",
    "import numpy as np\n",
    "import plotly_express as px"
   ]
  },
  {
   "cell_type": "code",
   "execution_count": 44,
   "metadata": {},
   "outputs": [
    {
     "name": "stdout",
     "output_type": "stream",
     "text": [
      "(1247486, 14)\n"
     ]
    }
   ],
   "source": [
    "airline_df = pd.read_csv(\"airlinedelaycauses_DelayedFlights.csv\")\n",
    "airline_df = airline_df.dropna(axis=0, how='any')\n",
    "airline_df.isnull().sum()\n",
    "\n",
    "airline_df = airline_df.drop(columns=['Year', 'DayofMonth', 'DepTime', 'CRSDepTime', 'ArrTime', 'CRSArrTime', 'UniqueCarrier', 'FlightNum', 'TailNum', 'ActualElapsedTime', 'CRSElapsedTime', 'TaxiIn', 'TaxiOut', 'Cancelled', 'CancellationCode', 'Diverted'])\n",
    "\n",
    "print(airline_df.shape)"
   ]
  },
  {
   "cell_type": "code",
   "execution_count": 81,
   "metadata": {},
   "outputs": [
    {
     "name": "stdout",
     "output_type": "stream",
     "text": [
      "        State Origin State Destination  Unnamed: 0  Month  DayOfWeek  AirTime  \\\n",
      "3                 IN                MD           4      1          4     77.0   \n",
      "5                 IN                NV           6      1          4    230.0   \n",
      "7                 IN                FL          11      1          4    107.0   \n",
      "9                 IN                AZ          16      1          4    213.0   \n",
      "11                IN                FL          18      1          4    110.0   \n",
      "...              ...               ...         ...    ...        ...      ...   \n",
      "1936751           GA                FL     7009705     12          6     82.0   \n",
      "1936752           AL                GA     7009709     12          6     27.0   \n",
      "1936753           MN                GA     7009710     12          6    120.0   \n",
      "1936754           VA                GA     7009717     12          6     78.0   \n",
      "1936755           GA                TX     7009718     12          6    122.0   \n",
      "\n",
      "         ArrDelay  DepDelay Origin Dest  Distance  CarrierDelay  WeatherDelay  \\\n",
      "3            34.0      34.0    IND  BWI       515           2.0           0.0   \n",
      "5            57.0      67.0    IND  LAS      1591          10.0           0.0   \n",
      "7            80.0      94.0    IND  MCO       828           8.0           0.0   \n",
      "9            15.0      27.0    IND  PHX      1489           3.0           0.0   \n",
      "11           16.0      28.0    IND  TPA       838           0.0           0.0   \n",
      "...           ...       ...    ...  ...       ...           ...           ...   \n",
      "1936751      64.0      51.0    ATL  PBI       545          51.0           0.0   \n",
      "1936752      17.0      32.0    HSV  ATL       151           0.0           0.0   \n",
      "1936753      25.0      30.0    MSP  ATL       906           3.0           0.0   \n",
      "1936754      75.0      57.0    RIC  ATL       481           0.0          57.0   \n",
      "1936755      99.0      80.0    ATL  IAH       689           1.0           0.0   \n",
      "\n",
      "         NASDelay  SecurityDelay  LateAircraftDelay  \n",
      "3             0.0            0.0               32.0  \n",
      "5             0.0            0.0               47.0  \n",
      "7             0.0            0.0               72.0  \n",
      "9             0.0            0.0               12.0  \n",
      "11            0.0            0.0               16.0  \n",
      "...           ...            ...                ...  \n",
      "1936751      13.0            0.0                0.0  \n",
      "1936752       0.0            0.0               17.0  \n",
      "1936753       0.0            0.0               22.0  \n",
      "1936754      18.0            0.0                0.0  \n",
      "1936755      19.0            0.0               79.0  \n",
      "\n",
      "[1247486 rows x 16 columns]\n"
     ]
    }
   ],
   "source": [
    "print(airline_df)"
   ]
  },
  {
   "cell_type": "code",
   "execution_count": 75,
   "metadata": {},
   "outputs": [
    {
     "name": "stdout",
     "output_type": "stream",
     "text": [
      "█ █ █ █ █ █ █ █ █ "
     ]
    }
   ],
   "source": [
    "#adding state column\n",
    "\n",
    "def get_state(iata):\n",
    "    iata_to_state = {\n",
    "    'IND': 'IN', 'ISP': 'NY', 'JAN': 'MS', 'JAX': 'FL', 'LAS': 'NV', \n",
    "    'LAX': 'CA', 'LBB': 'TX', 'LIT': 'AR', 'MAF': 'TX', 'MCI': 'MO', \n",
    "    'MCO': 'FL', 'MDW': 'IL', 'MHT': 'NH', 'MSY': 'LA', 'OAK': 'CA', \n",
    "    'OKC': 'OK', 'OMA': 'NE', 'ONT': 'CA', 'ORF': 'VA', 'PBI': 'FL', \n",
    "    'PDX': 'OR', 'PHL': 'PA', 'PHX': 'AZ', 'PIT': 'PA', 'PVD': 'RI', \n",
    "    'RDU': 'NC', 'RNO': 'NV', 'RSW': 'FL', 'SAN': 'CA', 'SAT': 'TX', \n",
    "    'SDF': 'KY', 'SEA': 'WA', 'SFO': 'CA', 'SJC': 'CA', 'SLC': 'UT', \n",
    "    'SMF': 'CA', 'SNA': 'CA', 'STL': 'MO', 'TPA': 'FL', 'TUL': 'OK',\n",
    "    'ABQ': 'NM', 'AMA': 'TX', 'AUS': 'TX', 'BHM': 'AL', 'BNA': 'TN',\n",
    "    'BOI': 'ID', 'BUF': 'NY', 'BUR': 'CA', 'BWI': 'MD', 'CMH': 'OH',\n",
    "    'CRP': 'TX', 'DAL': 'TX', 'DEN': 'CO', 'ELP': 'TX', 'FLL': 'FL',\n",
    "    'GEG': 'WA', 'HOU': 'TX', 'HRL': 'TX', 'IAD': 'VA', 'ALB': 'NY',\n",
    "    'BDL': 'CT', 'DTW': 'MI', 'CLE': 'OH', 'ORD': 'IL', 'SYR': 'NY',\n",
    "    'EWR': 'NJ', 'IAH': 'TX', 'COS': 'CO', 'MRY': 'CA', 'LGB': 'CA',\n",
    "    'FAT': 'CA', 'BFL': 'CA', 'EUG': 'OR', 'ICT': 'KS', 'MEM': 'TN',\n",
    "    'BTV': 'VT', 'MKE': 'WI', 'LFT': 'LA', 'BRO': 'TX', 'PWM': 'ME',\n",
    "    'MSP': 'MN', 'CLT': 'NC', 'CVG': 'KY', 'GSO': 'NC', 'SHV': 'LA',\n",
    "    'RIC': 'VA', 'DCA': 'DC', 'DFW': 'TX', 'BGR': 'ME', 'DAY': 'OH',\n",
    "    'GRR': 'MI', 'CRW': 'WV', 'CAE': 'SC', 'GSP': 'SC', 'XNA': 'AR',\n",
    "    'GPT': 'MS', 'LGA': 'NY', 'ATL': 'GA', 'SRQ': 'FL', 'LEX': 'KY',\n",
    "    'LRD': 'TX', 'MOB': 'AL', 'SAV': 'GA', 'MTJ': 'CO', 'MSN': 'WI',\n",
    "    'AEX': 'TX',  # Amarillo, TX\n",
    "    'PNS': 'FL',  # Pensacola, FL\n",
    "    'ROC': 'NY',  # Rochester, NY\n",
    "    'TYS': 'TN',  # Knoxville, TN\n",
    "    'HSV': 'AL',  # Huntsville, AL\n",
    "    'MFE': 'MS',  # Meridian, MS\n",
    "    'MLU': 'MO',  # Columbia, MO\n",
    "    'DSM': 'IA',  # Des Moines, IA\n",
    "    'MGM': 'MS',  # Hattiesburg, MS\n",
    "    'AVL': 'NC',  # Asheville, NC\n",
    "    'LCH': 'LA',  # Lake Charles, LA\n",
    "    'TLH': 'FL',  # Tallahassee, FL\n",
    "    'CHS': 'SC',  # Charleston, SC\n",
    "    'VPS': 'FL',  # Valparaiso, FL\n",
    "    'CLL': 'TX',  # College Station, TX\n",
    "    'GRK': 'KS',  # Goodland, KS\n",
    "    'BTR': 'LA',  # Baton Rouge, LA\n",
    "    'ABE': 'PA',  # Allentown, PA\n",
    "    'MYR': 'SC',  # Myrtle Beach, SC\n",
    "    'CHA': 'IL',  # Champaign, IL\n",
    "    'BOS': 'MA',  # Boston, MA\n",
    "    'DAB': 'FL',  # Daytona Beach, FL\n",
    "    'ASE': 'NM',  # Alamogordo, NM\n",
    "    'ATW': 'WI',  # Appleton, WI\n",
    "    'BMI': 'IL',  # Bloomington, IL\n",
    "    'CAK': 'OH',  # Akron, OH\n",
    "    'CID': 'IA',  # Cedar Rapids, IA\n",
    "    'CPR': 'CO',  # Colorado Springs, CO\n",
    "    'EGE': 'KS',  # Dodge City, KS\n",
    "    'FLG': 'MT',  # Flagler, MT\n",
    "    'FSD': 'SD',  # Sioux Falls, SD\n",
    "    'FWA': 'OH',  # Fort Wayne, IN\n",
    "    'GJT': 'CO',  # Grand Junction, CO\n",
    "    'GRB': 'WI',  # Green Bay, WI\n",
    "    'HNL': 'HI',  # Honolulu, HI\n",
    "    'KOA': 'HI',  # Keahole, HI\n",
    "    'LAN': 'CA',  # Lancaster, CA\n",
    "    'LIH': 'HI',  # Lihue, HI\n",
    "    'MBS': 'MI',  # Muskegon, MI\n",
    "    'MDT': 'PA',  # State College, PA\n",
    "    'OGG': 'HI',  # Kahului, HI\n",
    "    'PSP': 'CA',  # Palm Springs, CA\n",
    "    'RAP': 'SD',  # Rapid City, SD\n",
    "    'SBN': 'OH',  # Sandusky, OH\n",
    "    'SPI': 'IL',  # Springfield, IL\n",
    "    'TEX': 'TX',  # Texarkana, TX\n",
    "    'YUM': 'AZ',  # Yuma, AZ\n",
    "    'AVP': 'PA',  # Wilkes-Barre, PA\n",
    "    'CWA': 'IA',  # Waterloo, IA\n",
    "    'DRO': 'CA',  # Redding, CA\n",
    "    'JFK': 'NY',  # New York, NY\n",
    "    'ROA': 'NM',  # Roswell, NM\n",
    "    'TVC': 'MI',  # Traverse City, MI\n",
    "    'ITO': 'HI',  # Hilo, HI\n",
    "    'HDN': 'CO',  # Hayden, CO\n",
    "    'ILM': 'NC',  # Wilmington, NC\n",
    "    'SBA': 'CA',  # Santa Barbara, CA\n",
    "    'SBP': 'CA',  # San Luis Obispo, CA\n",
    "    'CLD': 'MT',  # Great Falls, MT\n",
    "    'MFR': 'CA',  # Medford, OR\n",
    "    'HPN': 'NY',  # Hudson Valley, NY\n",
    "    'MIA': 'FL',  # Miami, FL\n",
    "    'SGF': 'MO',  # Springfield, MO\n",
    "    'TRI': 'TN',  # Johnson City, TN\n",
    "    'SUN': 'FL',  # St. Pete, FL\n",
    "    'SGU': 'VI', # St. Croix, VI\n",
    "    'MSO': 'MT',  # Missoula, MT\n",
    "    'BZN': 'MT',  # Bozeman, MT\n",
    "    'GTF': 'MT',  # Great Falls, MT\n",
    "    'BIL': 'MT',  # Billings, MT\n",
    "    'JAC': 'OR',  # Jackson Hole, WY (Note: potentially ambiguous)\n",
    "    'MOD': 'CA',  # Modesto, CA\n",
    "    'FAR': 'ND',  # Fargo, ND\n",
    "    'GUC': 'CA',  # Eureka, CA\n",
    "    'AZO': 'MI',  # Kalamazoo, MI\n",
    "    'PIA': 'IL',  # Peoria, IL\n",
    "    'MLI': 'IL',  # Moline, IL\n",
    "    'LNK': 'NE',  # Lincoln, NE\n",
    "    'FCA': 'MI',  # Traverse City, MI (Cherry Capital Airport)\n",
    "    'IDA': 'ID', # Idaho Falls, ID\n",
    "    'PSC': 'MT', # Glasgow, MT\n",
    "    'RDM': 'OR', # Redmond, OR\n",
    "    'RDD': 'CA',  # Redding, CA\n",
    "    'TWF': 'OR', # Twin Falls, ID (Note: potentially ambiguous)\n",
    "    'SMX': 'CA',  # Santa Maria, CA\n",
    "    'ACV': 'CA',  # Arcata, CA\n",
    "    'CEC': 'CA', # Crescent City, CA\n",
    "    'CIC': 'CA', # Chico, CA\n",
    "    'PMD': 'CA', # Palmdale, CA\n",
    "    'EKO': 'WA',  # Forks, WA\n",
    "    'IYK': 'AK', # King Salmon, AK\n",
    "    'OXR': 'AK', # Fairbanks, AK\n",
    "    'IPL': 'AK', # Iliamna, AK\n",
    "    'PIH': 'AK', # Petersburg, AK\n",
    "    'BTM': 'AK', # Bethel, AK\n",
    "    'HLN': 'AK', # Unalakleet, AK\n",
    "    'BLI': 'AK', # Unalaska, AK\n",
    "    'RFD': 'AK', # Red Dog, AK\n",
    "    'COD': 'AK', # Cold Bay, AK\n",
    "    'SLE': 'AK', # St. Paul Island, AK\n",
    "    'LWS': 'WA', # Lewis County, WA\n",
    "    'BIS': 'ND', # Bismarck, ND\n",
    "    'CDC': 'CO', # Cortez, CO\n",
    "    'YKM': 'WA', # Yakima, WA\n",
    "    'SJU': 'PR', # San Juan, PR\n",
    "    'STT': 'VI', # St. Thomas, VI\n",
    "    'ANC': 'AK', # Anchorage, AK\n",
    "    'STX': 'VI', # St. Croix, VI\n",
    "    'MLB': 'FL', # Melbourne, FL\n",
    "    'PHF': 'CA', # Palm Springs, CA\n",
    "    'PFN': 'AK', # St. Paul Island, AK\n",
    "    'FAY': 'NC', # Fayetteville, NC\n",
    "    'AGS': 'GA', # Augusta, GA\n",
    "    'GNV': 'FL', # Gainesville, FL\n",
    "    'ABY': 'MS', # Aberdeen, MS\n",
    "    'DHN': 'AL', # Dothan, AL\n",
    "    'EVV': 'IN', # Evansville, IN\n",
    "    'FNT': 'MI', # Flint, MI\n",
    "    'OAJ': 'CA', # Oxnard, CA\n",
    "    'SWF': 'NY', # Stewart, NY\n",
    "    'EWN': 'NC', # New Bern, NC\n",
    "    'MEI': 'MI', # Menominee, MI\n",
    "    'GTR': 'PA', # Gettysburg, PA\n",
    "    'LYH': 'VA', # Lynchburg, VA\n",
    "    'HHH': 'HI', # Honolulu, HI\n",
    "    'EYW': 'FL', # Key West, FL\n",
    "    'VLD': 'CA', # Valdosta, GA\n",
    "    'CSG': 'GA', # Columbus, GA\n",
    "    'ACY': 'NY', # Atlantic City, NJ\n",
    "    'FSM': 'MO', # Jefferson City, MO\n",
    "    'MCN': 'NC', # Asheville, NC\n",
    "    'CHO': 'VA', # Charlottesville, VA\n",
    "    'TOL': 'OH', # Toledo, OH\n",
    "    'FLO': 'SC', # Florence, SC\n",
    "    'BQK': 'NY', # Binghamton, NY\n",
    "    'SCE': 'CA', # San Clemente Island, CA\n",
    "    'LAW': 'KS', # Lawrence, KS\n",
    "    'SPS': 'MO', # Springfield, MO\n",
    "    'ABI': 'TX', # Abilene, TX\n",
    "    'TYR': 'TX', # Tyler, TX\n",
    "    'GGG': 'GA', # Albany, GA\n",
    "    'ACT': 'AK', # Tatalina, AK\n",
    "    'SJT': 'TX', # San Angelo, TX\n",
    "    'TXK': 'TX', # Texarkana, TX\n",
    "    'CMI': 'WA', # Moses Lake, WA\n",
    "    'ROW': 'ND', # Williston, ND\n",
    "    'RST': 'MN', # Rochester, MN\n",
    "    'MQT': 'MI', # Marquette, MI\n",
    "    'LSE': 'LA', # Lafayette, LA\n",
    "    'DBQ': 'IA', # Dubuque, IA\n",
    "    'GFK': 'NY', # Griffiss, NY\n",
    "    'DLH': 'MN', # Duluth, MN\n",
    "    'MOT': 'MO', # Joplin, MO\n",
    "    'SUX': 'IA', # Sioux City, IA\n",
    "    'PLN': 'KS', # Plainview, KS\n",
    "    'BGM': 'NY', # Binghamton, NY\n",
    "    'ERI': 'PA', # Erie, PA\n",
    "    'ALO': 'OR', # Albany, OR\n",
    "    'CMX': 'MI', # Cadillac, MI\n",
    "    'RHI': 'RI', # Block Island, RI\n",
    "    'ELM': 'WA', # Ellensburg, WA\n",
    "    'KTN': 'TN', # Knoxville, TN\n",
    "    'JNU': 'AK', # Juneau, AK\n",
    "    'SIT': 'AK', # Sitka, AK\n",
    "    'PSG': 'AK', # Petersburg, AK\n",
    "    'CDV': 'AK', # Cordova, AK\n",
    "    'YAK': 'AK', # Yakutat, AK\n",
    "    'BET': 'AK', # Bethel, AK\n",
    "    'BRW': 'AK', # Barrow, AK\n",
    "    'SCC': 'AK', # Wrangell, AK\n",
    "    'FAI': 'AK', # Fairbanks, AK\n",
    "    'ADQ': 'AK', # Kodiak, AK\n",
    "    'WRG': 'AK', # Wrangell, AK\n",
    "    'OME': 'AK', # Nome, AK\n",
    "    'OTZ': 'AK', # Kotzebue, AK\n",
    "    'ADK': 'AK', # Adak Island, AK\n",
    "    'PSE': 'PR', # Ponce, PR\n",
    "    'BQN': 'PR', # Aguadilla, PR\n",
    "    'BPT': 'TX', # Beaumont, TX\n",
    "    'RKS': 'KS', # Pittsburg, KS\n",
    "    'GCC': 'KS', # Garden City, KS\n",
    "    'MKG': 'KY', # Lexington, KY\n",
    "    'DLG': 'AK', # Dillingham, AK\n",
    "    'AKN': 'AK', # King Salmon, AK\n",
    "    'LWB': 'TX', # Lubbock, TX\n",
    "    'ACK': 'MA', # Nantucket, MA\n",
    "    'WYS': 'WY', # Cheyenne, WY\n",
    "    'BJI': 'AK', # Big Lake, AK\n",
    "    'INL': 'ID', # Pocatello, ID\n",
    "    'GST': 'CA', # Grants Pass, OR (Note: Potentially ambiguous)\n",
    "    'PUB': 'CA', # Puebla, CA\n",
    "    'OTH': 'KS', # Goodland, KS\n",
    "    'LMT': 'MT', # Lewistown, MT\n",
    "    'ITH': 'NY', # Ithaca, NY\n",
    "    'HTS': 'CA', # Hemet, CA\n",
    "    'PIR': 'OR', # Newport, OR\n",
    "    }\n",
    "    return iata_to_state.get(iata.upper())\n",
    "    \n",
    "zeros = [[0]] * len(airline_df)\n",
    "if \"State Origin\" not in airline_df:\n",
    "    airline_df.insert(0, \"State Origin\", zeros, False)\n",
    "    airline_df.insert(1, \"State Destination\", zeros, False)\n",
    "\n",
    "airline_df['State Origin'] = airline_df['Origin'].apply(get_state)\n",
    "airline_df['State Destination'] = airline_df['Dest'].apply(get_state)\n",
    "\n",
    "total_rows = len(airline_df)\n",
    "for j in range(1, 10):\n",
    "    if round(total_rows * j / 10) < total_rows:\n",
    "        print(\"█\", end=\" \")\n",
    "\n",
    "                "
   ]
  },
  {
   "cell_type": "code",
   "execution_count": 96,
   "metadata": {},
   "outputs": [
    {
     "name": "stdout",
     "output_type": "stream",
     "text": [
      "   State  Average Departure Delay  Average Arrival Delay  Total Average Delay\n",
      "0     AK                58.533157              55.093419           113.626576\n",
      "1     AL                61.580058              56.594010           118.174068\n",
      "2     AR                68.157151              60.120191           128.277342\n",
      "3     AZ                52.891434              55.686983           108.578416\n",
      "4     CA                58.653006              57.961924           116.614930\n",
      "5     CO                53.509868              58.598764           112.108632\n",
      "6     CT                63.929078              57.897621           121.826699\n",
      "7     DC                59.636792              58.486672           118.123464\n",
      "8     FL                62.706780              60.902803           123.609583\n",
      "9     GA                55.379658              68.933423           124.313081\n",
      "10    HI                52.957355              56.577866           109.535221\n",
      "11    IA                69.117285              59.239404           128.356689\n",
      "12    ID                62.797736              53.250512           116.048247\n",
      "13    IL                64.243044              76.696323           140.939368\n",
      "14    IN                61.644861              58.552002           120.196863\n",
      "15    KS                69.319843              59.272831           128.592673\n",
      "16    KY                57.002359              62.722632           119.724991\n",
      "17    LA                61.534350              56.341789           117.876139\n",
      "18    MA                65.880876              69.799548           135.680424\n",
      "19    MD                58.303323              59.539531           117.842853\n",
      "20    ME                74.969110              65.660296           140.629406\n",
      "21    MI                55.175508              65.402063           120.577571\n",
      "22    MN                50.813840              67.624665           118.438505\n",
      "23    MO                60.986857              56.350388           117.337245\n",
      "24    MS                65.410380              57.185018           122.595398\n",
      "25    MT                60.340356              54.639943           114.980299\n",
      "26    NC                58.398161              60.714227           119.112389\n",
      "27    ND                65.525801              54.376790           119.902590\n",
      "28    NE                68.304041              58.121424           126.425465\n",
      "29    NH                69.743950              61.313865           131.057815\n",
      "30    NJ                66.903918              81.079490           147.983408\n",
      "31    NM                57.024900              54.056087           111.080987\n",
      "32    NV                58.186066              56.168179           114.354245\n",
      "33    NY                66.282342              70.686034           136.968376\n",
      "34    OH                65.305448              62.649716           127.955164\n",
      "35    OK                61.030286              56.900412           117.930698\n",
      "36    OR                60.757751              56.571679           117.329430\n",
      "37    PA                67.296081              67.536166           134.832247\n",
      "38    PR                71.910429              67.547152           139.457582\n",
      "39    RI                67.643731              60.790844           128.434575\n",
      "40    SC                70.164185              63.895945           134.060131\n",
      "41    SD                72.276231              60.141336           132.417568\n",
      "42    TN                60.049769              61.288049           121.337818\n",
      "43    TX                53.545236              60.895681           114.440917\n",
      "44    UT                52.712070              57.864946           110.577016\n",
      "45    VA                69.482964              67.714286           137.197249\n",
      "46    VI                57.484465              55.954457           113.438922\n",
      "47    VT                74.428787              69.514915           143.943702\n",
      "48    WA                54.789804              56.252418           111.042222\n",
      "49    WI                64.701399              61.123418           125.824817\n",
      "50    WV                69.293358              66.883096           136.176454\n",
      "51    WY                58.333333              44.812500           103.145833\n"
     ]
    }
   ],
   "source": [
    "arrival_delays = airline_df.groupby('State Destination')['ArrDelay'].mean().reset_index()\n",
    "departure_delays = airline_df.groupby('State Origin')['DepDelay'].mean().reset_index()\n",
    "\n",
    "arrival_delays.columns = ['State', 'Average Arrival Delay']\n",
    "departure_delays.columns = ['State', 'Average Departure Delay']\n",
    "\n",
    "state_delay_df = pd.merge(departure_delays, arrival_delays, on='State', how='outer').fillna(0)\n",
    "state_delay_df['Total Average Delay'] = state_delay_df['Average Arrival Delay'] + state_delay_df['Average Departure Delay']\n",
    "\n",
    "print(state_delay_df)\n"
   ]
  },
  {
   "cell_type": "code",
   "execution_count": 104,
   "metadata": {},
   "outputs": [
    {
     "data": {
      "application/vnd.plotly.v1+json": {
       "config": {
        "plotlyServerURL": "https://plot.ly"
       },
       "data": [
        {
         "coloraxis": "coloraxis",
         "geo": "geo",
         "hovertemplate": "State=%{location}<br>Average Delay (min)=%{z}<extra></extra>",
         "locationmode": "USA-states",
         "locations": [
          "AK",
          "AL",
          "AR",
          "AZ",
          "CA",
          "CO",
          "CT",
          "DC",
          "FL",
          "GA",
          "HI",
          "IA",
          "ID",
          "IL",
          "IN",
          "KS",
          "KY",
          "LA",
          "MA",
          "MD",
          "ME",
          "MI",
          "MN",
          "MO",
          "MS",
          "MT",
          "NC",
          "ND",
          "NE",
          "NH",
          "NJ",
          "NM",
          "NV",
          "NY",
          "OH",
          "OK",
          "OR",
          "PA",
          "PR",
          "RI",
          "SC",
          "SD",
          "TN",
          "TX",
          "UT",
          "VA",
          "VI",
          "VT",
          "WA",
          "WI",
          "WV",
          "WY"
         ],
         "name": "",
         "type": "choropleth",
         "z": [
          113.62657553781511,
          118.17406820752409,
          128.27734155311688,
          108.57841635460667,
          116.61493001863234,
          112.10863158324628,
          121.82669877842376,
          118.12346444763583,
          123.6095825133459,
          124.31308069253487,
          109.53522114714005,
          128.35668949027996,
          116.04824739538807,
          140.939367594616,
          120.19686295973507,
          128.59267335586355,
          119.72499127887161,
          117.87613896819107,
          135.68042424162428,
          117.84285315358244,
          140.6294061731576,
          120.57757061988944,
          118.43850535391235,
          117.33724507971218,
          122.5953975658593,
          114.98029904752795,
          119.11238851688508,
          119.90259046306252,
          126.42546537795536,
          131.05781492313096,
          147.98340816755308,
          111.08098650591165,
          114.35424509836166,
          136.9683755396763,
          127.95516448720403,
          117.93069843796891,
          117.32943007762965,
          134.83224717675665,
          139.4575816420638,
          128.43457490018255,
          134.06013056110007,
          132.41756775066892,
          121.33781816417574,
          114.44091700474007,
          110.57701601904934,
          137.19724935480707,
          113.43892226652751,
          143.94370150972802,
          111.0422219528768,
          125.82481729188197,
          136.17645430008804,
          103.14583333333334
         ]
        }
       ],
       "layout": {
        "coloraxis": {
         "colorbar": {
          "title": {
           "text": "Average Delay (min)"
          }
         },
         "colorscale": [
          [
           0,
           "#440154"
          ],
          [
           0.1111111111111111,
           "#482878"
          ],
          [
           0.2222222222222222,
           "#3e4989"
          ],
          [
           0.3333333333333333,
           "#31688e"
          ],
          [
           0.4444444444444444,
           "#26828e"
          ],
          [
           0.5555555555555556,
           "#1f9e89"
          ],
          [
           0.6666666666666666,
           "#35b779"
          ],
          [
           0.7777777777777778,
           "#6ece58"
          ],
          [
           0.8888888888888888,
           "#b5de2b"
          ],
          [
           1,
           "#fde725"
          ]
         ]
        },
        "geo": {
         "center": {},
         "domain": {
          "x": [
           0,
           1
          ],
          "y": [
           0,
           1
          ]
         },
         "scope": "usa"
        },
        "legend": {
         "tracegroupgap": 0
        },
        "template": {
         "data": {
          "bar": [
           {
            "error_x": {
             "color": "#2a3f5f"
            },
            "error_y": {
             "color": "#2a3f5f"
            },
            "marker": {
             "line": {
              "color": "#E5ECF6",
              "width": 0.5
             },
             "pattern": {
              "fillmode": "overlay",
              "size": 10,
              "solidity": 0.2
             }
            },
            "type": "bar"
           }
          ],
          "barpolar": [
           {
            "marker": {
             "line": {
              "color": "#E5ECF6",
              "width": 0.5
             },
             "pattern": {
              "fillmode": "overlay",
              "size": 10,
              "solidity": 0.2
             }
            },
            "type": "barpolar"
           }
          ],
          "carpet": [
           {
            "aaxis": {
             "endlinecolor": "#2a3f5f",
             "gridcolor": "white",
             "linecolor": "white",
             "minorgridcolor": "white",
             "startlinecolor": "#2a3f5f"
            },
            "baxis": {
             "endlinecolor": "#2a3f5f",
             "gridcolor": "white",
             "linecolor": "white",
             "minorgridcolor": "white",
             "startlinecolor": "#2a3f5f"
            },
            "type": "carpet"
           }
          ],
          "choropleth": [
           {
            "colorbar": {
             "outlinewidth": 0,
             "ticks": ""
            },
            "type": "choropleth"
           }
          ],
          "contour": [
           {
            "colorbar": {
             "outlinewidth": 0,
             "ticks": ""
            },
            "colorscale": [
             [
              0,
              "#0d0887"
             ],
             [
              0.1111111111111111,
              "#46039f"
             ],
             [
              0.2222222222222222,
              "#7201a8"
             ],
             [
              0.3333333333333333,
              "#9c179e"
             ],
             [
              0.4444444444444444,
              "#bd3786"
             ],
             [
              0.5555555555555556,
              "#d8576b"
             ],
             [
              0.6666666666666666,
              "#ed7953"
             ],
             [
              0.7777777777777778,
              "#fb9f3a"
             ],
             [
              0.8888888888888888,
              "#fdca26"
             ],
             [
              1,
              "#f0f921"
             ]
            ],
            "type": "contour"
           }
          ],
          "contourcarpet": [
           {
            "colorbar": {
             "outlinewidth": 0,
             "ticks": ""
            },
            "type": "contourcarpet"
           }
          ],
          "heatmap": [
           {
            "colorbar": {
             "outlinewidth": 0,
             "ticks": ""
            },
            "colorscale": [
             [
              0,
              "#0d0887"
             ],
             [
              0.1111111111111111,
              "#46039f"
             ],
             [
              0.2222222222222222,
              "#7201a8"
             ],
             [
              0.3333333333333333,
              "#9c179e"
             ],
             [
              0.4444444444444444,
              "#bd3786"
             ],
             [
              0.5555555555555556,
              "#d8576b"
             ],
             [
              0.6666666666666666,
              "#ed7953"
             ],
             [
              0.7777777777777778,
              "#fb9f3a"
             ],
             [
              0.8888888888888888,
              "#fdca26"
             ],
             [
              1,
              "#f0f921"
             ]
            ],
            "type": "heatmap"
           }
          ],
          "heatmapgl": [
           {
            "colorbar": {
             "outlinewidth": 0,
             "ticks": ""
            },
            "colorscale": [
             [
              0,
              "#0d0887"
             ],
             [
              0.1111111111111111,
              "#46039f"
             ],
             [
              0.2222222222222222,
              "#7201a8"
             ],
             [
              0.3333333333333333,
              "#9c179e"
             ],
             [
              0.4444444444444444,
              "#bd3786"
             ],
             [
              0.5555555555555556,
              "#d8576b"
             ],
             [
              0.6666666666666666,
              "#ed7953"
             ],
             [
              0.7777777777777778,
              "#fb9f3a"
             ],
             [
              0.8888888888888888,
              "#fdca26"
             ],
             [
              1,
              "#f0f921"
             ]
            ],
            "type": "heatmapgl"
           }
          ],
          "histogram": [
           {
            "marker": {
             "pattern": {
              "fillmode": "overlay",
              "size": 10,
              "solidity": 0.2
             }
            },
            "type": "histogram"
           }
          ],
          "histogram2d": [
           {
            "colorbar": {
             "outlinewidth": 0,
             "ticks": ""
            },
            "colorscale": [
             [
              0,
              "#0d0887"
             ],
             [
              0.1111111111111111,
              "#46039f"
             ],
             [
              0.2222222222222222,
              "#7201a8"
             ],
             [
              0.3333333333333333,
              "#9c179e"
             ],
             [
              0.4444444444444444,
              "#bd3786"
             ],
             [
              0.5555555555555556,
              "#d8576b"
             ],
             [
              0.6666666666666666,
              "#ed7953"
             ],
             [
              0.7777777777777778,
              "#fb9f3a"
             ],
             [
              0.8888888888888888,
              "#fdca26"
             ],
             [
              1,
              "#f0f921"
             ]
            ],
            "type": "histogram2d"
           }
          ],
          "histogram2dcontour": [
           {
            "colorbar": {
             "outlinewidth": 0,
             "ticks": ""
            },
            "colorscale": [
             [
              0,
              "#0d0887"
             ],
             [
              0.1111111111111111,
              "#46039f"
             ],
             [
              0.2222222222222222,
              "#7201a8"
             ],
             [
              0.3333333333333333,
              "#9c179e"
             ],
             [
              0.4444444444444444,
              "#bd3786"
             ],
             [
              0.5555555555555556,
              "#d8576b"
             ],
             [
              0.6666666666666666,
              "#ed7953"
             ],
             [
              0.7777777777777778,
              "#fb9f3a"
             ],
             [
              0.8888888888888888,
              "#fdca26"
             ],
             [
              1,
              "#f0f921"
             ]
            ],
            "type": "histogram2dcontour"
           }
          ],
          "mesh3d": [
           {
            "colorbar": {
             "outlinewidth": 0,
             "ticks": ""
            },
            "type": "mesh3d"
           }
          ],
          "parcoords": [
           {
            "line": {
             "colorbar": {
              "outlinewidth": 0,
              "ticks": ""
             }
            },
            "type": "parcoords"
           }
          ],
          "pie": [
           {
            "automargin": true,
            "type": "pie"
           }
          ],
          "scatter": [
           {
            "fillpattern": {
             "fillmode": "overlay",
             "size": 10,
             "solidity": 0.2
            },
            "type": "scatter"
           }
          ],
          "scatter3d": [
           {
            "line": {
             "colorbar": {
              "outlinewidth": 0,
              "ticks": ""
             }
            },
            "marker": {
             "colorbar": {
              "outlinewidth": 0,
              "ticks": ""
             }
            },
            "type": "scatter3d"
           }
          ],
          "scattercarpet": [
           {
            "marker": {
             "colorbar": {
              "outlinewidth": 0,
              "ticks": ""
             }
            },
            "type": "scattercarpet"
           }
          ],
          "scattergeo": [
           {
            "marker": {
             "colorbar": {
              "outlinewidth": 0,
              "ticks": ""
             }
            },
            "type": "scattergeo"
           }
          ],
          "scattergl": [
           {
            "marker": {
             "colorbar": {
              "outlinewidth": 0,
              "ticks": ""
             }
            },
            "type": "scattergl"
           }
          ],
          "scattermapbox": [
           {
            "marker": {
             "colorbar": {
              "outlinewidth": 0,
              "ticks": ""
             }
            },
            "type": "scattermapbox"
           }
          ],
          "scatterpolar": [
           {
            "marker": {
             "colorbar": {
              "outlinewidth": 0,
              "ticks": ""
             }
            },
            "type": "scatterpolar"
           }
          ],
          "scatterpolargl": [
           {
            "marker": {
             "colorbar": {
              "outlinewidth": 0,
              "ticks": ""
             }
            },
            "type": "scatterpolargl"
           }
          ],
          "scatterternary": [
           {
            "marker": {
             "colorbar": {
              "outlinewidth": 0,
              "ticks": ""
             }
            },
            "type": "scatterternary"
           }
          ],
          "surface": [
           {
            "colorbar": {
             "outlinewidth": 0,
             "ticks": ""
            },
            "colorscale": [
             [
              0,
              "#0d0887"
             ],
             [
              0.1111111111111111,
              "#46039f"
             ],
             [
              0.2222222222222222,
              "#7201a8"
             ],
             [
              0.3333333333333333,
              "#9c179e"
             ],
             [
              0.4444444444444444,
              "#bd3786"
             ],
             [
              0.5555555555555556,
              "#d8576b"
             ],
             [
              0.6666666666666666,
              "#ed7953"
             ],
             [
              0.7777777777777778,
              "#fb9f3a"
             ],
             [
              0.8888888888888888,
              "#fdca26"
             ],
             [
              1,
              "#f0f921"
             ]
            ],
            "type": "surface"
           }
          ],
          "table": [
           {
            "cells": {
             "fill": {
              "color": "#EBF0F8"
             },
             "line": {
              "color": "white"
             }
            },
            "header": {
             "fill": {
              "color": "#C8D4E3"
             },
             "line": {
              "color": "white"
             }
            },
            "type": "table"
           }
          ]
         },
         "layout": {
          "annotationdefaults": {
           "arrowcolor": "#2a3f5f",
           "arrowhead": 0,
           "arrowwidth": 1
          },
          "autotypenumbers": "strict",
          "coloraxis": {
           "colorbar": {
            "outlinewidth": 0,
            "ticks": ""
           }
          },
          "colorscale": {
           "diverging": [
            [
             0,
             "#8e0152"
            ],
            [
             0.1,
             "#c51b7d"
            ],
            [
             0.2,
             "#de77ae"
            ],
            [
             0.3,
             "#f1b6da"
            ],
            [
             0.4,
             "#fde0ef"
            ],
            [
             0.5,
             "#f7f7f7"
            ],
            [
             0.6,
             "#e6f5d0"
            ],
            [
             0.7,
             "#b8e186"
            ],
            [
             0.8,
             "#7fbc41"
            ],
            [
             0.9,
             "#4d9221"
            ],
            [
             1,
             "#276419"
            ]
           ],
           "sequential": [
            [
             0,
             "#0d0887"
            ],
            [
             0.1111111111111111,
             "#46039f"
            ],
            [
             0.2222222222222222,
             "#7201a8"
            ],
            [
             0.3333333333333333,
             "#9c179e"
            ],
            [
             0.4444444444444444,
             "#bd3786"
            ],
            [
             0.5555555555555556,
             "#d8576b"
            ],
            [
             0.6666666666666666,
             "#ed7953"
            ],
            [
             0.7777777777777778,
             "#fb9f3a"
            ],
            [
             0.8888888888888888,
             "#fdca26"
            ],
            [
             1,
             "#f0f921"
            ]
           ],
           "sequentialminus": [
            [
             0,
             "#0d0887"
            ],
            [
             0.1111111111111111,
             "#46039f"
            ],
            [
             0.2222222222222222,
             "#7201a8"
            ],
            [
             0.3333333333333333,
             "#9c179e"
            ],
            [
             0.4444444444444444,
             "#bd3786"
            ],
            [
             0.5555555555555556,
             "#d8576b"
            ],
            [
             0.6666666666666666,
             "#ed7953"
            ],
            [
             0.7777777777777778,
             "#fb9f3a"
            ],
            [
             0.8888888888888888,
             "#fdca26"
            ],
            [
             1,
             "#f0f921"
            ]
           ]
          },
          "colorway": [
           "#636efa",
           "#EF553B",
           "#00cc96",
           "#ab63fa",
           "#FFA15A",
           "#19d3f3",
           "#FF6692",
           "#B6E880",
           "#FF97FF",
           "#FECB52"
          ],
          "font": {
           "color": "#2a3f5f"
          },
          "geo": {
           "bgcolor": "white",
           "lakecolor": "white",
           "landcolor": "#E5ECF6",
           "showlakes": true,
           "showland": true,
           "subunitcolor": "white"
          },
          "hoverlabel": {
           "align": "left"
          },
          "hovermode": "closest",
          "mapbox": {
           "style": "light"
          },
          "paper_bgcolor": "white",
          "plot_bgcolor": "#E5ECF6",
          "polar": {
           "angularaxis": {
            "gridcolor": "white",
            "linecolor": "white",
            "ticks": ""
           },
           "bgcolor": "#E5ECF6",
           "radialaxis": {
            "gridcolor": "white",
            "linecolor": "white",
            "ticks": ""
           }
          },
          "scene": {
           "xaxis": {
            "backgroundcolor": "#E5ECF6",
            "gridcolor": "white",
            "gridwidth": 2,
            "linecolor": "white",
            "showbackground": true,
            "ticks": "",
            "zerolinecolor": "white"
           },
           "yaxis": {
            "backgroundcolor": "#E5ECF6",
            "gridcolor": "white",
            "gridwidth": 2,
            "linecolor": "white",
            "showbackground": true,
            "ticks": "",
            "zerolinecolor": "white"
           },
           "zaxis": {
            "backgroundcolor": "#E5ECF6",
            "gridcolor": "white",
            "gridwidth": 2,
            "linecolor": "white",
            "showbackground": true,
            "ticks": "",
            "zerolinecolor": "white"
           }
          },
          "shapedefaults": {
           "line": {
            "color": "#2a3f5f"
           }
          },
          "ternary": {
           "aaxis": {
            "gridcolor": "white",
            "linecolor": "white",
            "ticks": ""
           },
           "baxis": {
            "gridcolor": "white",
            "linecolor": "white",
            "ticks": ""
           },
           "bgcolor": "#E5ECF6",
           "caxis": {
            "gridcolor": "white",
            "linecolor": "white",
            "ticks": ""
           }
          },
          "title": {
           "x": 0.05
          },
          "xaxis": {
           "automargin": true,
           "gridcolor": "white",
           "linecolor": "white",
           "ticks": "",
           "title": {
            "standoff": 15
           },
           "zerolinecolor": "white",
           "zerolinewidth": 2
          },
          "yaxis": {
           "automargin": true,
           "gridcolor": "white",
           "linecolor": "white",
           "ticks": "",
           "title": {
            "standoff": 15
           },
           "zerolinecolor": "white",
           "zerolinewidth": 2
          }
         }
        },
        "title": {
         "text": "Total Average Delay by State"
        }
       }
      }
     },
     "metadata": {},
     "output_type": "display_data"
    }
   ],
   "source": [
    "map_fig = px.choropleth(\n",
    "    state_delay_df,\n",
    "    locations='State', \n",
    "    locationmode='USA-states',\n",
    "    color='Total Average Delay',  \n",
    "    color_continuous_scale='Viridis',  \n",
    "    scope='usa',  \n",
    "    title='Total Average Delay by State',\n",
    "    labels={'Total Average Delay': 'Average Delay (min)'}\n",
    ")\n",
    "\n",
    "map_fig.show()"
   ]
  }
 ],
 "metadata": {
  "kernelspec": {
   "display_name": "Python 3",
   "language": "python",
   "name": "python3"
  },
  "language_info": {
   "codemirror_mode": {
    "name": "ipython",
    "version": 3
   },
   "file_extension": ".py",
   "mimetype": "text/x-python",
   "name": "python",
   "nbconvert_exporter": "python",
   "pygments_lexer": "ipython3",
   "version": "3.12.7"
  }
 },
 "nbformat": 4,
 "nbformat_minor": 2
}
