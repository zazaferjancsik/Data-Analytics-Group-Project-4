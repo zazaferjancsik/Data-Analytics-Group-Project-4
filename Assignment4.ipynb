{
 "cells": [
  {
   "cell_type": "markdown",
   "id": "cc60c2bd-1e73-4a84-9d9b-e345baa1be73",
   "metadata": {},
   "source": [
    "# Import data"
   ]
  },
  {
   "cell_type": "code",
   "execution_count": 1,
   "id": "0bdcb0c1-56a2-456b-a8f7-fab66d5abf60",
   "metadata": {},
   "outputs": [],
   "source": [
    "import pandas as pd\n",
    "data = \"airlinedelaycauses_DelayedFlights.csv\"\n",
    "data = pd.read_csv(data)\n",
    "airline_df = pd.DataFrame(data = data)"
   ]
  },
  {
   "cell_type": "markdown",
   "id": "d8a5599a-924c-4c1c-83ce-47dccd22bb0a",
   "metadata": {},
   "source": [
    "# Preprocess"
   ]
  },
  {
   "cell_type": "code",
   "execution_count": 2,
   "id": "7d73c970-8d0f-46a3-9ee0-33aafaabe259",
   "metadata": {},
   "outputs": [
    {
     "ename": "NameError",
     "evalue": "name 'df' is not defined",
     "output_type": "error",
     "traceback": [
      "\u001b[1;31m---------------------------------------------------------------------------\u001b[0m",
      "\u001b[1;31mNameError\u001b[0m                                 Traceback (most recent call last)",
      "Cell \u001b[1;32mIn[2], line 2\u001b[0m\n\u001b[0;32m      1\u001b[0m \u001b[38;5;66;03m# drop the row if there is missing data \u001b[39;00m\n\u001b[1;32m----> 2\u001b[0m airline_df \u001b[38;5;241m=\u001b[39m \u001b[43mdf\u001b[49m\u001b[38;5;241m.\u001b[39mdropna(axis\u001b[38;5;241m=\u001b[39m\u001b[38;5;241m0\u001b[39m, how\u001b[38;5;241m=\u001b[39m\u001b[38;5;124m'\u001b[39m\u001b[38;5;124many\u001b[39m\u001b[38;5;124m'\u001b[39m)\n\u001b[0;32m      3\u001b[0m airline_df\u001b[38;5;241m.\u001b[39misnull()\u001b[38;5;241m.\u001b[39msum()\n",
      "\u001b[1;31mNameError\u001b[0m: name 'df' is not defined"
     ]
    }
   ],
   "source": [
    "# drop the row if there is missing data \n",
    "airline_df = airline_df.dropna(axis=0, how='any')\n",
    "airline_df.isnull().sum()"
   ]
  },
  {
   "cell_type": "code",
   "execution_count": null,
   "id": "7dcc6220-0668-4724-9ac7-fe061f3c52cd",
   "metadata": {},
   "outputs": [],
   "source": [
    "# check if the index of the column are the same throughout the dataset\n",
    "# if so, drop or simply ignore the column because there are not meaningful to visualize\n",
    "if (  len(airline_df[\"CancellationCode\"] == \"N\") == len(airline_df)):  print (\"ignore CancellationCode column\")\n",
    "if (  len(airline_df[\"Cancelled\"] == 0)  == len(airline_df)):  print (\"ignore  Cancelled column\")\n",
    "if (  len(airline_df[\"Diverted\"] == 0) == len(airline_df)):  print (\"ignore  Diverted column\")"
   ]
  },
  {
   "cell_type": "code",
   "execution_count": null,
   "id": "8b4f3f72-d458-4b9c-aabe-bf20d1866c32",
   "metadata": {},
   "outputs": [],
   "source": [
    "if (  len(airline_df[\"Year\"] == 2008) == len(airline_df)):  print (\"The dataset is for 2008 only, ignore  Year column\")"
   ]
  },
  {
   "cell_type": "code",
   "execution_count": null,
   "id": "4f6c8f64-bf1f-4020-b1b8-17d86d7c7c9e",
   "metadata": {},
   "outputs": [],
   "source": [
    "airline_df = airline_df.drop('CancellationCode', axis=1) \n",
    "airline_df = airline_df.drop(\"Cancelled\", axis=1) \n",
    "airline_df = airline_df.drop(\"Diverted\", axis=1) \n",
    "airline_df = airline_df.drop(\"Year\", axis=1) \n",
    "airline_df.info()"
   ]
  },
  {
   "cell_type": "markdown",
   "id": "e40698c9-7923-4dc2-83e6-297937547311",
   "metadata": {},
   "source": [
    "# Dachboard"
   ]
  }
 ],
 "metadata": {
  "kernelspec": {
   "display_name": "Python 3 (ipykernel)",
   "language": "python",
   "name": "python3"
  },
  "language_info": {
   "codemirror_mode": {
    "name": "ipython",
    "version": 3
   },
   "file_extension": ".py",
   "mimetype": "text/x-python",
   "name": "python",
   "nbconvert_exporter": "python",
   "pygments_lexer": "ipython3",
   "version": "3.12.4"
  }
 },
 "nbformat": 4,
 "nbformat_minor": 5
}
